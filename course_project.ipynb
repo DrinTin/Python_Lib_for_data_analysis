{
 "cells": [
  {
   "cell_type": "markdown",
   "id": "bac05166",
   "metadata": {},
   "source": [
    "# Курсовой проект для курса \"Python для Data Science\""
   ]
  },
  {
   "cell_type": "markdown",
   "id": "0cb5a430",
   "metadata": {},
   "source": [
    "# Info"
   ]
  },
  {
   "cell_type": "markdown",
   "id": "5fa59eaa",
   "metadata": {},
   "source": [
    "Материалы к проекту (файлы): train.csv test.csv\n",
    "\n",
    "Задание: Используя данные из train.csv, построить модель для предсказания цен на недвижимость (квартиры). С помощью полученной модели предсказать цены для квартир из файла test.csv."
   ]
  },
  {
   "cell_type": "markdown",
   "id": "3ae4314b",
   "metadata": {},
   "source": [
    "Метрика: R2 - коэффициент детерминации (sklearn.metrics.r2_score)\n"
   ]
  },
  {
   "cell_type": "markdown",
   "id": "bba62be2",
   "metadata": {},
   "source": [
    "Подключаем нужные нам библиотеки."
   ]
  },
  {
   "cell_type": "code",
   "execution_count": 1,
   "id": "ad4d92ff",
   "metadata": {},
   "outputs": [],
   "source": [
    "import numpy as np\n",
    "import pandas as pd\n",
    "import random\n",
    "\n",
    "from sklearn.model_selection import train_test_split, cross_val_score\n",
    "from sklearn.preprocessing import StandardScaler, RobustScaler\n",
    "from sklearn.ensemble import RandomForestRegressor\n",
    "from sklearn.metrics import r2_score as r2\n",
    "from sklearn.model_selection import KFold, GridSearchCV\n",
    "\n",
    "from datetime import datetime\n",
    "\n",
    "import matplotlib\n",
    "import matplotlib.pyplot as plt\n",
    "import seaborn as sns\n",
    "%matplotlib inline"
   ]
  },
  {
   "cell_type": "markdown",
   "id": "9f7ad790",
   "metadata": {},
   "source": [
    "Отключаем предупреждения."
   ]
  },
  {
   "cell_type": "code",
   "execution_count": 2,
   "id": "d3919b31",
   "metadata": {},
   "outputs": [],
   "source": [
    "import warnings\n",
    "warnings.filterwarnings('ignore')"
   ]
  },
  {
   "cell_type": "markdown",
   "id": "4ef2f5d9",
   "metadata": {},
   "source": [
    "Задаём везде одинаковый размер шрифта."
   ]
  },
  {
   "cell_type": "code",
   "execution_count": 3,
   "id": "b6dc2388",
   "metadata": {},
   "outputs": [],
   "source": [
    "matplotlib.rcParams.update({'font.size': 14})"
   ]
  },
  {
   "cell_type": "markdown",
   "id": "8535b937",
   "metadata": {},
   "source": [
    "Пишем функцию для подсчёта метрик - будем подсчитывать метрику R2 на обучении, на тесте. И будем рисовать два графика - качество предсказания на обучении и качество предсказания на тесте."
   ]
  },
  {
   "cell_type": "code",
   "execution_count": 4,
   "id": "61b8c190",
   "metadata": {},
   "outputs": [],
   "source": [
    "def evaluate_preds(train_true_values, train_pred_values, test_true_values, test_pred_values):\n",
    "    print(\"Train R2:\\t\" + str(round(r2(train_true_values, train_pred_values), 3)))\n",
    "    print(\"Test R2:\\t\" + str(round(r2(test_true_values, test_pred_values), 3)))\n",
    "    \n",
    "    plt.figure(figsize=(18,10))\n",
    "    \n",
    "    plt.subplot(121)\n",
    "    sns.scatterplot(x=train_pred_values, y=train_true_values)\n",
    "    plt.xlabel('Predicted values')\n",
    "    plt.ylabel('True values')\n",
    "    plt.title('Train sample prediction')\n",
    "    \n",
    "    plt.subplot(122)\n",
    "    sns.scatterplot(x=test_pred_values, y=test_true_values)\n",
    "    plt.xlabel('Predicted values')\n",
    "    plt.ylabel('True values')\n",
    "    plt.title('Test sample prediction')\n",
    "\n",
    "    plt.show()"
   ]
  },
  {
   "cell_type": "markdown",
   "id": "d72279dd",
   "metadata": {},
   "source": [
    "1. Загрузка и анализ данных:"
   ]
  },
  {
   "cell_type": "code",
   "execution_count": 5,
   "id": "7bccf2d3",
   "metadata": {},
   "outputs": [],
   "source": [
    "DATA_TRAIN_PATH='train.csv'\n",
    "DATA_TEST_PATH='test.csv'\n",
    "RESULT_PATH='sample_submission.csv'\n",
    "data=pd.read_csv(DATA_TRAIN_PATH)\n",
    "X_test=pd.read_csv(DATA_TEST_PATH)"
   ]
  },
  {
   "cell_type": "markdown",
   "id": "6d825eeb",
   "metadata": {},
   "source": [
    "Описание датасета\n",
    "\n",
    "- Id  - идентификационный номер квартир\n",
    "- DistrictId - идентификационный номер района\n",
    "- Rooms - количество комнат\n",
    "- Square - площадь\n",
    "- LifeSquare - жилая площадь\n",
    "- KitchenSquare - площадь кухни\n",
    "- Floor - этаж\n",
    "- HouseFloor - количество этажей в доме\n",
    "- HouseYear - год постройки дома\n",
    "- Ecology_1, Ecology_2, Ecology_3 - экологические показатели местности\n",
    "- Social_1, Social_2, Social_3 - социальные показатели местности\n",
    "- Healthcare_1, Helthcare_2 - показатели местности, связанные с охраной здоровья\n",
    "- Shops_1, Shops_2 - показатели, связанные с наличием магазинов, торговых центров\n",
    "- Price - цена квартиры"
   ]
  },
  {
   "cell_type": "code",
   "execution_count": 6,
   "id": "7139aff5",
   "metadata": {},
   "outputs": [
    {
     "data": {
      "text/html": [
       "<div>\n",
       "<style scoped>\n",
       "    .dataframe tbody tr th:only-of-type {\n",
       "        vertical-align: middle;\n",
       "    }\n",
       "\n",
       "    .dataframe tbody tr th {\n",
       "        vertical-align: top;\n",
       "    }\n",
       "\n",
       "    .dataframe thead th {\n",
       "        text-align: right;\n",
       "    }\n",
       "</style>\n",
       "<table border=\"1\" class=\"dataframe\">\n",
       "  <thead>\n",
       "    <tr style=\"text-align: right;\">\n",
       "      <th></th>\n",
       "      <th>Id</th>\n",
       "      <th>DistrictId</th>\n",
       "      <th>Rooms</th>\n",
       "      <th>Square</th>\n",
       "      <th>LifeSquare</th>\n",
       "      <th>KitchenSquare</th>\n",
       "      <th>Floor</th>\n",
       "      <th>HouseFloor</th>\n",
       "      <th>HouseYear</th>\n",
       "      <th>Ecology_1</th>\n",
       "      <th>Ecology_2</th>\n",
       "      <th>Ecology_3</th>\n",
       "      <th>Social_1</th>\n",
       "      <th>Social_2</th>\n",
       "      <th>Social_3</th>\n",
       "      <th>Healthcare_1</th>\n",
       "      <th>Helthcare_2</th>\n",
       "      <th>Shops_1</th>\n",
       "      <th>Shops_2</th>\n",
       "      <th>Price</th>\n",
       "    </tr>\n",
       "  </thead>\n",
       "  <tbody>\n",
       "    <tr>\n",
       "      <th>9995</th>\n",
       "      <td>1260</td>\n",
       "      <td>61</td>\n",
       "      <td>2.0</td>\n",
       "      <td>49.090728</td>\n",
       "      <td>33.272626</td>\n",
       "      <td>6.0</td>\n",
       "      <td>3</td>\n",
       "      <td>12.0</td>\n",
       "      <td>1981</td>\n",
       "      <td>0.300323</td>\n",
       "      <td>B</td>\n",
       "      <td>B</td>\n",
       "      <td>52</td>\n",
       "      <td>10311</td>\n",
       "      <td>6</td>\n",
       "      <td>NaN</td>\n",
       "      <td>1</td>\n",
       "      <td>9</td>\n",
       "      <td>B</td>\n",
       "      <td>119367.455796</td>\n",
       "    </tr>\n",
       "    <tr>\n",
       "      <th>9996</th>\n",
       "      <td>16265</td>\n",
       "      <td>27</td>\n",
       "      <td>2.0</td>\n",
       "      <td>64.307684</td>\n",
       "      <td>37.038420</td>\n",
       "      <td>9.0</td>\n",
       "      <td>13</td>\n",
       "      <td>0.0</td>\n",
       "      <td>1977</td>\n",
       "      <td>0.072158</td>\n",
       "      <td>B</td>\n",
       "      <td>B</td>\n",
       "      <td>2</td>\n",
       "      <td>629</td>\n",
       "      <td>1</td>\n",
       "      <td>NaN</td>\n",
       "      <td>0</td>\n",
       "      <td>0</td>\n",
       "      <td>A</td>\n",
       "      <td>199715.148807</td>\n",
       "    </tr>\n",
       "    <tr>\n",
       "      <th>9997</th>\n",
       "      <td>2795</td>\n",
       "      <td>178</td>\n",
       "      <td>1.0</td>\n",
       "      <td>29.648057</td>\n",
       "      <td>16.555363</td>\n",
       "      <td>5.0</td>\n",
       "      <td>3</td>\n",
       "      <td>5.0</td>\n",
       "      <td>1958</td>\n",
       "      <td>0.460556</td>\n",
       "      <td>B</td>\n",
       "      <td>B</td>\n",
       "      <td>20</td>\n",
       "      <td>4386</td>\n",
       "      <td>14</td>\n",
       "      <td>NaN</td>\n",
       "      <td>1</td>\n",
       "      <td>5</td>\n",
       "      <td>B</td>\n",
       "      <td>165953.912580</td>\n",
       "    </tr>\n",
       "    <tr>\n",
       "      <th>9998</th>\n",
       "      <td>14561</td>\n",
       "      <td>21</td>\n",
       "      <td>1.0</td>\n",
       "      <td>32.330292</td>\n",
       "      <td>22.326870</td>\n",
       "      <td>5.0</td>\n",
       "      <td>3</td>\n",
       "      <td>9.0</td>\n",
       "      <td>1969</td>\n",
       "      <td>0.194489</td>\n",
       "      <td>B</td>\n",
       "      <td>B</td>\n",
       "      <td>47</td>\n",
       "      <td>8004</td>\n",
       "      <td>3</td>\n",
       "      <td>125.0</td>\n",
       "      <td>3</td>\n",
       "      <td>5</td>\n",
       "      <td>B</td>\n",
       "      <td>171842.411855</td>\n",
       "    </tr>\n",
       "    <tr>\n",
       "      <th>9999</th>\n",
       "      <td>7202</td>\n",
       "      <td>94</td>\n",
       "      <td>1.0</td>\n",
       "      <td>35.815476</td>\n",
       "      <td>22.301367</td>\n",
       "      <td>6.0</td>\n",
       "      <td>9</td>\n",
       "      <td>9.0</td>\n",
       "      <td>1975</td>\n",
       "      <td>0.127376</td>\n",
       "      <td>B</td>\n",
       "      <td>B</td>\n",
       "      <td>43</td>\n",
       "      <td>8429</td>\n",
       "      <td>3</td>\n",
       "      <td>NaN</td>\n",
       "      <td>3</td>\n",
       "      <td>9</td>\n",
       "      <td>B</td>\n",
       "      <td>177685.627486</td>\n",
       "    </tr>\n",
       "  </tbody>\n",
       "</table>\n",
       "</div>"
      ],
      "text/plain": [
       "         Id  DistrictId  Rooms     Square  LifeSquare  KitchenSquare  Floor  \\\n",
       "9995   1260          61    2.0  49.090728   33.272626            6.0      3   \n",
       "9996  16265          27    2.0  64.307684   37.038420            9.0     13   \n",
       "9997   2795         178    1.0  29.648057   16.555363            5.0      3   \n",
       "9998  14561          21    1.0  32.330292   22.326870            5.0      3   \n",
       "9999   7202          94    1.0  35.815476   22.301367            6.0      9   \n",
       "\n",
       "      HouseFloor  HouseYear  Ecology_1 Ecology_2 Ecology_3  Social_1  \\\n",
       "9995        12.0       1981   0.300323         B         B        52   \n",
       "9996         0.0       1977   0.072158         B         B         2   \n",
       "9997         5.0       1958   0.460556         B         B        20   \n",
       "9998         9.0       1969   0.194489         B         B        47   \n",
       "9999         9.0       1975   0.127376         B         B        43   \n",
       "\n",
       "      Social_2  Social_3  Healthcare_1  Helthcare_2  Shops_1 Shops_2  \\\n",
       "9995     10311         6           NaN            1        9       B   \n",
       "9996       629         1           NaN            0        0       A   \n",
       "9997      4386        14           NaN            1        5       B   \n",
       "9998      8004         3         125.0            3        5       B   \n",
       "9999      8429         3           NaN            3        9       B   \n",
       "\n",
       "              Price  \n",
       "9995  119367.455796  \n",
       "9996  199715.148807  \n",
       "9997  165953.912580  \n",
       "9998  171842.411855  \n",
       "9999  177685.627486  "
      ]
     },
     "execution_count": 6,
     "metadata": {},
     "output_type": "execute_result"
    }
   ],
   "source": [
    "train_df = pd.read_csv(DATA_TRAIN_PATH)\n",
    "train_df.tail()"
   ]
  },
  {
   "cell_type": "code",
   "execution_count": 7,
   "id": "06a399ee",
   "metadata": {},
   "outputs": [
    {
     "data": {
      "text/plain": [
       "Id                 int64\n",
       "DistrictId         int64\n",
       "Rooms            float64\n",
       "Square           float64\n",
       "LifeSquare       float64\n",
       "KitchenSquare    float64\n",
       "Floor              int64\n",
       "HouseFloor       float64\n",
       "HouseYear          int64\n",
       "Ecology_1        float64\n",
       "Ecology_2         object\n",
       "Ecology_3         object\n",
       "Social_1           int64\n",
       "Social_2           int64\n",
       "Social_3           int64\n",
       "Healthcare_1     float64\n",
       "Helthcare_2        int64\n",
       "Shops_1            int64\n",
       "Shops_2           object\n",
       "Price            float64\n",
       "dtype: object"
      ]
     },
     "execution_count": 7,
     "metadata": {},
     "output_type": "execute_result"
    }
   ],
   "source": [
    "train_df.dtypes"
   ]
  },
  {
   "cell_type": "code",
   "execution_count": 8,
   "id": "95c56fd1",
   "metadata": {},
   "outputs": [
    {
     "data": {
      "text/html": [
       "<div>\n",
       "<style scoped>\n",
       "    .dataframe tbody tr th:only-of-type {\n",
       "        vertical-align: middle;\n",
       "    }\n",
       "\n",
       "    .dataframe tbody tr th {\n",
       "        vertical-align: top;\n",
       "    }\n",
       "\n",
       "    .dataframe thead th {\n",
       "        text-align: right;\n",
       "    }\n",
       "</style>\n",
       "<table border=\"1\" class=\"dataframe\">\n",
       "  <thead>\n",
       "    <tr style=\"text-align: right;\">\n",
       "      <th></th>\n",
       "      <th>Id</th>\n",
       "      <th>DistrictId</th>\n",
       "      <th>Rooms</th>\n",
       "      <th>Square</th>\n",
       "      <th>LifeSquare</th>\n",
       "      <th>KitchenSquare</th>\n",
       "      <th>Floor</th>\n",
       "      <th>HouseFloor</th>\n",
       "      <th>HouseYear</th>\n",
       "      <th>Ecology_1</th>\n",
       "      <th>Ecology_2</th>\n",
       "      <th>Ecology_3</th>\n",
       "      <th>Social_1</th>\n",
       "      <th>Social_2</th>\n",
       "      <th>Social_3</th>\n",
       "      <th>Healthcare_1</th>\n",
       "      <th>Helthcare_2</th>\n",
       "      <th>Shops_1</th>\n",
       "      <th>Shops_2</th>\n",
       "    </tr>\n",
       "  </thead>\n",
       "  <tbody>\n",
       "    <tr>\n",
       "      <th>4995</th>\n",
       "      <td>10379</td>\n",
       "      <td>29</td>\n",
       "      <td>2.0</td>\n",
       "      <td>43.177521</td>\n",
       "      <td>30.339945</td>\n",
       "      <td>5.0</td>\n",
       "      <td>6</td>\n",
       "      <td>5.0</td>\n",
       "      <td>1962</td>\n",
       "      <td>0.069660</td>\n",
       "      <td>B</td>\n",
       "      <td>B</td>\n",
       "      <td>31</td>\n",
       "      <td>6119</td>\n",
       "      <td>4</td>\n",
       "      <td>NaN</td>\n",
       "      <td>1</td>\n",
       "      <td>2</td>\n",
       "      <td>B</td>\n",
       "    </tr>\n",
       "    <tr>\n",
       "      <th>4996</th>\n",
       "      <td>16138</td>\n",
       "      <td>38</td>\n",
       "      <td>3.0</td>\n",
       "      <td>93.698122</td>\n",
       "      <td>94.521465</td>\n",
       "      <td>10.0</td>\n",
       "      <td>21</td>\n",
       "      <td>27.0</td>\n",
       "      <td>2018</td>\n",
       "      <td>0.060753</td>\n",
       "      <td>B</td>\n",
       "      <td>B</td>\n",
       "      <td>15</td>\n",
       "      <td>2787</td>\n",
       "      <td>2</td>\n",
       "      <td>520.0</td>\n",
       "      <td>0</td>\n",
       "      <td>7</td>\n",
       "      <td>B</td>\n",
       "    </tr>\n",
       "    <tr>\n",
       "      <th>4997</th>\n",
       "      <td>3912</td>\n",
       "      <td>101</td>\n",
       "      <td>1.0</td>\n",
       "      <td>33.656723</td>\n",
       "      <td>19.003259</td>\n",
       "      <td>5.0</td>\n",
       "      <td>2</td>\n",
       "      <td>5.0</td>\n",
       "      <td>1966</td>\n",
       "      <td>0.038693</td>\n",
       "      <td>B</td>\n",
       "      <td>B</td>\n",
       "      <td>28</td>\n",
       "      <td>6533</td>\n",
       "      <td>1</td>\n",
       "      <td>1015.0</td>\n",
       "      <td>2</td>\n",
       "      <td>5</td>\n",
       "      <td>B</td>\n",
       "    </tr>\n",
       "    <tr>\n",
       "      <th>4998</th>\n",
       "      <td>5722</td>\n",
       "      <td>10</td>\n",
       "      <td>1.0</td>\n",
       "      <td>38.635155</td>\n",
       "      <td>20.976257</td>\n",
       "      <td>9.0</td>\n",
       "      <td>8</td>\n",
       "      <td>14.0</td>\n",
       "      <td>1970</td>\n",
       "      <td>0.089040</td>\n",
       "      <td>B</td>\n",
       "      <td>B</td>\n",
       "      <td>33</td>\n",
       "      <td>7976</td>\n",
       "      <td>5</td>\n",
       "      <td>NaN</td>\n",
       "      <td>0</td>\n",
       "      <td>11</td>\n",
       "      <td>B</td>\n",
       "    </tr>\n",
       "    <tr>\n",
       "      <th>4999</th>\n",
       "      <td>11004</td>\n",
       "      <td>21</td>\n",
       "      <td>2.0</td>\n",
       "      <td>67.122742</td>\n",
       "      <td>33.944344</td>\n",
       "      <td>13.0</td>\n",
       "      <td>9</td>\n",
       "      <td>17.0</td>\n",
       "      <td>2009</td>\n",
       "      <td>0.194489</td>\n",
       "      <td>B</td>\n",
       "      <td>B</td>\n",
       "      <td>47</td>\n",
       "      <td>8004</td>\n",
       "      <td>3</td>\n",
       "      <td>125.0</td>\n",
       "      <td>3</td>\n",
       "      <td>5</td>\n",
       "      <td>B</td>\n",
       "    </tr>\n",
       "  </tbody>\n",
       "</table>\n",
       "</div>"
      ],
      "text/plain": [
       "         Id  DistrictId  Rooms     Square  LifeSquare  KitchenSquare  Floor  \\\n",
       "4995  10379          29    2.0  43.177521   30.339945            5.0      6   \n",
       "4996  16138          38    3.0  93.698122   94.521465           10.0     21   \n",
       "4997   3912         101    1.0  33.656723   19.003259            5.0      2   \n",
       "4998   5722          10    1.0  38.635155   20.976257            9.0      8   \n",
       "4999  11004          21    2.0  67.122742   33.944344           13.0      9   \n",
       "\n",
       "      HouseFloor  HouseYear  Ecology_1 Ecology_2 Ecology_3  Social_1  \\\n",
       "4995         5.0       1962   0.069660         B         B        31   \n",
       "4996        27.0       2018   0.060753         B         B        15   \n",
       "4997         5.0       1966   0.038693         B         B        28   \n",
       "4998        14.0       1970   0.089040         B         B        33   \n",
       "4999        17.0       2009   0.194489         B         B        47   \n",
       "\n",
       "      Social_2  Social_3  Healthcare_1  Helthcare_2  Shops_1 Shops_2  \n",
       "4995      6119         4           NaN            1        2       B  \n",
       "4996      2787         2         520.0            0        7       B  \n",
       "4997      6533         1        1015.0            2        5       B  \n",
       "4998      7976         5           NaN            0       11       B  \n",
       "4999      8004         3         125.0            3        5       B  "
      ]
     },
     "execution_count": 8,
     "metadata": {},
     "output_type": "execute_result"
    }
   ],
   "source": [
    "test_df = pd.read_csv(DATA_TEST_PATH)\n",
    "test_df.tail()"
   ]
  },
  {
   "cell_type": "code",
   "execution_count": 9,
   "id": "22b8481d",
   "metadata": {},
   "outputs": [
    {
     "data": {
      "text/plain": [
       "Id                 int64\n",
       "DistrictId         int64\n",
       "Rooms            float64\n",
       "Square           float64\n",
       "LifeSquare       float64\n",
       "KitchenSquare    float64\n",
       "Floor              int64\n",
       "HouseFloor       float64\n",
       "HouseYear          int64\n",
       "Ecology_1        float64\n",
       "Ecology_2         object\n",
       "Ecology_3         object\n",
       "Social_1           int64\n",
       "Social_2           int64\n",
       "Social_3           int64\n",
       "Healthcare_1     float64\n",
       "Helthcare_2        int64\n",
       "Shops_1            int64\n",
       "Shops_2           object\n",
       "dtype: object"
      ]
     },
     "execution_count": 9,
     "metadata": {},
     "output_type": "execute_result"
    }
   ],
   "source": [
    "test_df.dtypes"
   ]
  },
  {
   "cell_type": "code",
   "execution_count": 10,
   "id": "7f10287d",
   "metadata": {},
   "outputs": [
    {
     "data": {
      "text/plain": [
       "True"
      ]
     },
     "execution_count": 10,
     "metadata": {},
     "output_type": "execute_result"
    }
   ],
   "source": [
    "train_df.shape[1]-1 == test_df.shape[1]"
   ]
  },
  {
   "cell_type": "code",
   "execution_count": 11,
   "id": "3293e14e",
   "metadata": {},
   "outputs": [
    {
     "name": "stdout",
     "output_type": "stream",
     "text": [
      "Строк в трейне: 10000\n",
      "Строк в тесте 5000\n"
     ]
    }
   ],
   "source": [
    "print('Строк в трейне:', train_df.shape[0])\n",
    "print('Строк в тесте', test_df.shape[0])"
   ]
  },
  {
   "cell_type": "markdown",
   "id": "167215bd",
   "metadata": {},
   "source": [
    "Id и DistrictId переводим его  в строковый тип данных. "
   ]
  },
  {
   "cell_type": "code",
   "execution_count": 12,
   "id": "564f5f21",
   "metadata": {},
   "outputs": [],
   "source": [
    "train_df['Id'] = train_df['Id'].astype(str)\n",
    "train_df['DistrictId'] = train_df['DistrictId'].astype(str)"
   ]
  },
  {
   "cell_type": "markdown",
   "id": "51cf239d",
   "metadata": {},
   "source": [
    "Изучение целевой переменной. Она вещественная, задача регрессии - предсказывать непрерывную величину. Когда целевая переменная непрерывная, то стоит изучить её график распределения и почитать меры центральной тенденции, посмотрим только на распределение."
   ]
  },
  {
   "cell_type": "code",
   "execution_count": 13,
   "id": "cf44d674",
   "metadata": {},
   "outputs": [
    {
     "data": {
      "image/png": "[encoded data removed]",
      "text/plain": [
       "<Figure size 1600x800 with 1 Axes>"
      ]
     },
     "metadata": {},
     "output_type": "display_data"
    }
   ],
   "source": [
    "plt.figure(figsize = (16, 8))\n",
    "\n",
    "train_df['Price'].hist(bins=30, edgecolor='black')\n",
    "plt.ylabel('Count')\n",
    "plt.xlabel('Price')\n",
    "\n",
    "plt.title('Target distribution')\n",
    "plt.show()"
   ]
  },
  {
   "cell_type": "markdown",
   "id": "d9740d23",
   "metadata": {},
   "source": [
    "Здесь получается, что дешёвых квартир мало, квартир, которые стоят по среднему много, а дорогие квартиры это хвост, уходящий вправо. Всё это похоже на правду, поэтому изучем дальше и смотрим уже на признаки."
   ]
  },
  {
   "cell_type": "markdown",
   "id": "dfcac248",
   "metadata": {},
   "source": [
    "Когда изучаются вещественные признаки, то обязательно надо посмотреть на основные статистики с помощью describe(). Во-первых можно понять где есть пропуски, с помощью count - если здесь не 10000, значит есть пропуски. Далее подсчитываеться средняя mean, а вот среднюю стоит сравнивать с медианой 50%, потому что если они отличаются, значит где-то есть выбросы. Так же здесь стоит посмотреть на минимальные - максимальные значения. "
   ]
  },
  {
   "cell_type": "code",
   "execution_count": 14,
   "id": "807b1a34",
   "metadata": {
    "scrolled": true
   },
   "outputs": [
    {
     "data": {
      "text/html": [
       "<div>\n",
       "<style scoped>\n",
       "    .dataframe tbody tr th:only-of-type {\n",
       "        vertical-align: middle;\n",
       "    }\n",
       "\n",
       "    .dataframe tbody tr th {\n",
       "        vertical-align: top;\n",
       "    }\n",
       "\n",
       "    .dataframe thead th {\n",
       "        text-align: right;\n",
       "    }\n",
       "</style>\n",
       "<table border=\"1\" class=\"dataframe\">\n",
       "  <thead>\n",
       "    <tr style=\"text-align: right;\">\n",
       "      <th></th>\n",
       "      <th>Rooms</th>\n",
       "      <th>Square</th>\n",
       "      <th>LifeSquare</th>\n",
       "      <th>KitchenSquare</th>\n",
       "      <th>Floor</th>\n",
       "      <th>HouseFloor</th>\n",
       "      <th>HouseYear</th>\n",
       "      <th>Ecology_1</th>\n",
       "      <th>Social_1</th>\n",
       "      <th>Social_2</th>\n",
       "      <th>Social_3</th>\n",
       "      <th>Healthcare_1</th>\n",
       "      <th>Helthcare_2</th>\n",
       "      <th>Shops_1</th>\n",
       "      <th>Price</th>\n",
       "    </tr>\n",
       "  </thead>\n",
       "  <tbody>\n",
       "    <tr>\n",
       "      <th>count</th>\n",
       "      <td>10000.000000</td>\n",
       "      <td>10000.000000</td>\n",
       "      <td>7887.000000</td>\n",
       "      <td>10000.000000</td>\n",
       "      <td>10000.000000</td>\n",
       "      <td>10000.000000</td>\n",
       "      <td>1.000000e+04</td>\n",
       "      <td>10000.000000</td>\n",
       "      <td>10000.000000</td>\n",
       "      <td>10000.000000</td>\n",
       "      <td>10000.000000</td>\n",
       "      <td>5202.000000</td>\n",
       "      <td>10000.000000</td>\n",
       "      <td>10000.000000</td>\n",
       "      <td>10000.000000</td>\n",
       "    </tr>\n",
       "    <tr>\n",
       "      <th>mean</th>\n",
       "      <td>1.890500</td>\n",
       "      <td>56.315775</td>\n",
       "      <td>37.199645</td>\n",
       "      <td>6.273300</td>\n",
       "      <td>8.526700</td>\n",
       "      <td>12.609400</td>\n",
       "      <td>3.990166e+03</td>\n",
       "      <td>0.118858</td>\n",
       "      <td>24.687000</td>\n",
       "      <td>5352.157400</td>\n",
       "      <td>8.039200</td>\n",
       "      <td>1142.904460</td>\n",
       "      <td>1.319500</td>\n",
       "      <td>4.231300</td>\n",
       "      <td>214138.857399</td>\n",
       "    </tr>\n",
       "    <tr>\n",
       "      <th>std</th>\n",
       "      <td>0.839512</td>\n",
       "      <td>21.058732</td>\n",
       "      <td>86.241209</td>\n",
       "      <td>28.560917</td>\n",
       "      <td>5.241148</td>\n",
       "      <td>6.775974</td>\n",
       "      <td>2.005003e+05</td>\n",
       "      <td>0.119025</td>\n",
       "      <td>17.532614</td>\n",
       "      <td>4006.799803</td>\n",
       "      <td>23.831875</td>\n",
       "      <td>1021.517264</td>\n",
       "      <td>1.493601</td>\n",
       "      <td>4.806341</td>\n",
       "      <td>92872.293865</td>\n",
       "    </tr>\n",
       "    <tr>\n",
       "      <th>min</th>\n",
       "      <td>0.000000</td>\n",
       "      <td>1.136859</td>\n",
       "      <td>0.370619</td>\n",
       "      <td>0.000000</td>\n",
       "      <td>1.000000</td>\n",
       "      <td>0.000000</td>\n",
       "      <td>1.910000e+03</td>\n",
       "      <td>0.000000</td>\n",
       "      <td>0.000000</td>\n",
       "      <td>168.000000</td>\n",
       "      <td>0.000000</td>\n",
       "      <td>0.000000</td>\n",
       "      <td>0.000000</td>\n",
       "      <td>0.000000</td>\n",
       "      <td>59174.778028</td>\n",
       "    </tr>\n",
       "    <tr>\n",
       "      <th>25%</th>\n",
       "      <td>1.000000</td>\n",
       "      <td>41.774881</td>\n",
       "      <td>22.769832</td>\n",
       "      <td>1.000000</td>\n",
       "      <td>4.000000</td>\n",
       "      <td>9.000000</td>\n",
       "      <td>1.974000e+03</td>\n",
       "      <td>0.017647</td>\n",
       "      <td>6.000000</td>\n",
       "      <td>1564.000000</td>\n",
       "      <td>0.000000</td>\n",
       "      <td>350.000000</td>\n",
       "      <td>0.000000</td>\n",
       "      <td>1.000000</td>\n",
       "      <td>153872.633942</td>\n",
       "    </tr>\n",
       "    <tr>\n",
       "      <th>50%</th>\n",
       "      <td>2.000000</td>\n",
       "      <td>52.513310</td>\n",
       "      <td>32.781260</td>\n",
       "      <td>6.000000</td>\n",
       "      <td>7.000000</td>\n",
       "      <td>13.000000</td>\n",
       "      <td>1.977000e+03</td>\n",
       "      <td>0.075424</td>\n",
       "      <td>25.000000</td>\n",
       "      <td>5285.000000</td>\n",
       "      <td>2.000000</td>\n",
       "      <td>900.000000</td>\n",
       "      <td>1.000000</td>\n",
       "      <td>3.000000</td>\n",
       "      <td>192269.644879</td>\n",
       "    </tr>\n",
       "    <tr>\n",
       "      <th>75%</th>\n",
       "      <td>2.000000</td>\n",
       "      <td>65.900625</td>\n",
       "      <td>45.128803</td>\n",
       "      <td>9.000000</td>\n",
       "      <td>12.000000</td>\n",
       "      <td>17.000000</td>\n",
       "      <td>2.001000e+03</td>\n",
       "      <td>0.195781</td>\n",
       "      <td>36.000000</td>\n",
       "      <td>7227.000000</td>\n",
       "      <td>5.000000</td>\n",
       "      <td>1548.000000</td>\n",
       "      <td>2.000000</td>\n",
       "      <td>6.000000</td>\n",
       "      <td>249135.462171</td>\n",
       "    </tr>\n",
       "    <tr>\n",
       "      <th>max</th>\n",
       "      <td>19.000000</td>\n",
       "      <td>641.065193</td>\n",
       "      <td>7480.592129</td>\n",
       "      <td>2014.000000</td>\n",
       "      <td>42.000000</td>\n",
       "      <td>117.000000</td>\n",
       "      <td>2.005201e+07</td>\n",
       "      <td>0.521867</td>\n",
       "      <td>74.000000</td>\n",
       "      <td>19083.000000</td>\n",
       "      <td>141.000000</td>\n",
       "      <td>4849.000000</td>\n",
       "      <td>6.000000</td>\n",
       "      <td>23.000000</td>\n",
       "      <td>633233.466570</td>\n",
       "    </tr>\n",
       "  </tbody>\n",
       "</table>\n",
       "</div>"
      ],
      "text/plain": [
       "              Rooms        Square   LifeSquare  KitchenSquare         Floor  \\\n",
       "count  10000.000000  10000.000000  7887.000000   10000.000000  10000.000000   \n",
       "mean       1.890500     56.315775    37.199645       6.273300      8.526700   \n",
       "std        0.839512     21.058732    86.241209      28.560917      5.241148   \n",
       "min        0.000000      1.136859     0.370619       0.000000      1.000000   \n",
       "25%        1.000000     41.774881    22.769832       1.000000      4.000000   \n",
       "50%        2.000000     52.513310    32.781260       6.000000      7.000000   \n",
       "75%        2.000000     65.900625    45.128803       9.000000     12.000000   \n",
       "max       19.000000    641.065193  7480.592129    2014.000000     42.000000   \n",
       "\n",
       "         HouseFloor     HouseYear     Ecology_1      Social_1      Social_2  \\\n",
       "count  10000.000000  1.000000e+04  10000.000000  10000.000000  10000.000000   \n",
       "mean      12.609400  3.990166e+03      0.118858     24.687000   5352.157400   \n",
       "std        6.775974  2.005003e+05      0.119025     17.532614   4006.799803   \n",
       "min        0.000000  1.910000e+03      0.000000      0.000000    168.000000   \n",
       "25%        9.000000  1.974000e+03      0.017647      6.000000   1564.000000   \n",
       "50%       13.000000  1.977000e+03      0.075424     25.000000   5285.000000   \n",
       "75%       17.000000  2.001000e+03      0.195781     36.000000   7227.000000   \n",
       "max      117.000000  2.005201e+07      0.521867     74.000000  19083.000000   \n",
       "\n",
       "           Social_3  Healthcare_1   Helthcare_2       Shops_1          Price  \n",
       "count  10000.000000   5202.000000  10000.000000  10000.000000   10000.000000  \n",
       "mean       8.039200   1142.904460      1.319500      4.231300  214138.857399  \n",
       "std       23.831875   1021.517264      1.493601      4.806341   92872.293865  \n",
       "min        0.000000      0.000000      0.000000      0.000000   59174.778028  \n",
       "25%        0.000000    350.000000      0.000000      1.000000  153872.633942  \n",
       "50%        2.000000    900.000000      1.000000      3.000000  192269.644879  \n",
       "75%        5.000000   1548.000000      2.000000      6.000000  249135.462171  \n",
       "max      141.000000   4849.000000      6.000000     23.000000  633233.466570  "
      ]
     },
     "execution_count": 14,
     "metadata": {},
     "output_type": "execute_result"
    }
   ],
   "source": [
    "train_df.describe()"
   ]
  },
  {
   "cell_type": "markdown",
   "id": "7a3dc37e",
   "metadata": {},
   "source": [
    "count - норм. - 10000; LifeSquare - 7887 - есть пропуски; mean - Social_3 - 8.039200, 50% - Social_3 - 2.000000, - разница в 4 раза; min - Rooms - 0; max - LifeSquare - 7480.592129; KitchenSquare - 2014.000000 - очень много."
   ]
  },
  {
   "cell_type": "code",
   "execution_count": 15,
   "id": "fb6cfdcc",
   "metadata": {},
   "outputs": [
    {
     "data": {
      "text/plain": [
       "27     851\n",
       "1      652\n",
       "23     565\n",
       "6      511\n",
       "9      294\n",
       "      ... \n",
       "199      1\n",
       "117      1\n",
       "207      1\n",
       "209      1\n",
       "174      1\n",
       "Name: DistrictId, Length: 205, dtype: int64"
      ]
     },
     "execution_count": 15,
     "metadata": {},
     "output_type": "execute_result"
    }
   ],
   "source": [
    "train_df['DistrictId'].value_counts()"
   ]
  },
  {
   "cell_type": "markdown",
   "id": "b6e2a045",
   "metadata": {},
   "source": [
    "Всего уникальных районов - 205, при этом есть очень населённые, где квартир встречается много, а есть где по одной квартире. Дальше с этим признаком нужно работать как с категорией, лучше его перевести во что-то вещественное, т.к. нельзя сказать, что 27 район это больше чем 1-ый, или 174 район больше чем все прочие. Для этого нужно переводить либо в бинарные признаки, либо описывать категорию другим вещественным признаком, либо описывать эту категорию через целевой признак, это Target encoding, но есть ещё один подход - можно признак описать через себя же, через value_counts() - тут каждое значение в нем подсчитывается, в 27 р-не 851 кв., а в 1-ом р-не 652 кв., с точки зрения математики 851 > 652 > 1, получается, что посчитаные значения кол-ва квартир в каждом районе можно сравнивать между собой. Значит такую кодировку можно использовать для перевода категории во что-то вещественное."
   ]
  },
  {
   "cell_type": "markdown",
   "id": "394e7785",
   "metadata": {},
   "source": [
    "Есть и другие строковые признаки - у них по две категории, поэтому их без проблем можно перевести в бинарные признаки. Потому что будет один признак, только в бинарном представлении."
   ]
  },
  {
   "cell_type": "code",
   "execution_count": 16,
   "id": "46efc1b7",
   "metadata": {},
   "outputs": [
    {
     "data": {
      "text/plain": [
       "B    9903\n",
       "A      97\n",
       "Name: Ecology_2, dtype: int64"
      ]
     },
     "execution_count": 16,
     "metadata": {},
     "output_type": "execute_result"
    }
   ],
   "source": [
    "train_df['Ecology_2'].value_counts()"
   ]
  },
  {
   "cell_type": "code",
   "execution_count": 17,
   "id": "d11bc39c",
   "metadata": {},
   "outputs": [
    {
     "data": {
      "text/plain": [
       "B    9725\n",
       "A     275\n",
       "Name: Ecology_3, dtype: int64"
      ]
     },
     "execution_count": 17,
     "metadata": {},
     "output_type": "execute_result"
    }
   ],
   "source": [
    "train_df['Ecology_3'].value_counts()"
   ]
  },
  {
   "cell_type": "code",
   "execution_count": 18,
   "id": "b4aab2c8",
   "metadata": {},
   "outputs": [
    {
     "data": {
      "text/plain": [
       "B    9175\n",
       "A     825\n",
       "Name: Shops_2, dtype: int64"
      ]
     },
     "execution_count": 18,
     "metadata": {},
     "output_type": "execute_result"
    }
   ],
   "source": [
    "train_df['Shops_2'].value_counts()"
   ]
  },
  {
   "cell_type": "markdown",
   "id": "e2f4b5bf",
   "metadata": {},
   "source": [
    "В этих строчках гораздо больше объектов со значением B и гораздо меньше объектов со значением A, что-бы они не значили."
   ]
  },
  {
   "cell_type": "markdown",
   "id": "da54c717",
   "metadata": {},
   "source": [
    "2. Обработка выбросов\n",
    "\n",
    "Что можно делать с ними?\n",
    "\n",
    "Выкинуть эти данные, либо весь признак выбросный, либо весь объект выбросный (только на трейне, на тесте ничего не выкидываем)\n",
    "Заменять выбросы разными методами (медианы, средние значения, делать левую границу, правую границу с промощью np.clip, разные группировки заполнять выбросы, либо вообще обучать модель на заполнение выбросов и пропусков и т.д.)\n",
    "Делать/не делать дополнительный признак (фичу), который говорит, что в этом объекте, в этом признаке был выброс. Новые признаки делать везде.\n",
    "Ничего не делать"
   ]
  },
  {
   "cell_type": "markdown",
   "id": "6ab5837e",
   "metadata": {},
   "source": [
    "Первый признак кол-во комнат. Сделаем value_counts() - посчитаем сколько уникальных значений встречается в нашем датасете."
   ]
  },
  {
   "cell_type": "code",
   "execution_count": 19,
   "id": "3331b48c",
   "metadata": {},
   "outputs": [
    {
     "data": {
      "text/plain": [
       "2.0     3880\n",
       "1.0     3705\n",
       "3.0     2235\n",
       "4.0      150\n",
       "5.0       18\n",
       "0.0        8\n",
       "10.0       2\n",
       "19.0       1\n",
       "6.0        1\n",
       "Name: Rooms, dtype: int64"
      ]
     },
     "execution_count": 19,
     "metadata": {},
     "output_type": "execute_result"
    }
   ],
   "source": [
    "train_df['Rooms'].value_counts()"
   ]
  },
  {
   "cell_type": "markdown",
   "id": "4be77bbb",
   "metadata": {},
   "source": [
    "Чаще всего встречаются квартиры с двумя комнатами. Есть 1, 3, 4, 5 и 0 комнат,возможно это студии, так что 0 - это студия, а в ней по факту одна комната. Есть так же 10, 19 и 6. Если ещё в 5 и 6 комнат могут существовать, то в 10 и в 19 нет. Т.ч. это скорее всего какие-то выбросы, и их нужно обрабатывать."
   ]
  },
  {
   "cell_type": "markdown",
   "id": "a53db0f7",
   "metadata": {},
   "source": [
    "Сделаем признак,указывающий, что в кол-ве комнат есть выбросы, признак равен 0, но там где признак стоит равный == 0, либо кол-во комнат >= 6, то мы этот признак заменяем на = 1. Делаем пометку 'Rooms_outlier', означающую, что в этих признаках, вот в этих объектах находиться выброс и его пометили 1."
   ]
  },
  {
   "cell_type": "code",
   "execution_count": 20,
   "id": "3a9428c5",
   "metadata": {},
   "outputs": [
    {
     "data": {
      "text/html": [
       "<div>\n",
       "<style scoped>\n",
       "    .dataframe tbody tr th:only-of-type {\n",
       "        vertical-align: middle;\n",
       "    }\n",
       "\n",
       "    .dataframe tbody tr th {\n",
       "        vertical-align: top;\n",
       "    }\n",
       "\n",
       "    .dataframe thead th {\n",
       "        text-align: right;\n",
       "    }\n",
       "</style>\n",
       "<table border=\"1\" class=\"dataframe\">\n",
       "  <thead>\n",
       "    <tr style=\"text-align: right;\">\n",
       "      <th></th>\n",
       "      <th>Id</th>\n",
       "      <th>DistrictId</th>\n",
       "      <th>Rooms</th>\n",
       "      <th>Square</th>\n",
       "      <th>LifeSquare</th>\n",
       "      <th>KitchenSquare</th>\n",
       "      <th>Floor</th>\n",
       "      <th>HouseFloor</th>\n",
       "      <th>HouseYear</th>\n",
       "      <th>Ecology_1</th>\n",
       "      <th>...</th>\n",
       "      <th>Ecology_3</th>\n",
       "      <th>Social_1</th>\n",
       "      <th>Social_2</th>\n",
       "      <th>Social_3</th>\n",
       "      <th>Healthcare_1</th>\n",
       "      <th>Helthcare_2</th>\n",
       "      <th>Shops_1</th>\n",
       "      <th>Shops_2</th>\n",
       "      <th>Price</th>\n",
       "      <th>Rooms_outlier</th>\n",
       "    </tr>\n",
       "  </thead>\n",
       "  <tbody>\n",
       "    <tr>\n",
       "      <th>0</th>\n",
       "      <td>11809</td>\n",
       "      <td>27</td>\n",
       "      <td>3.0</td>\n",
       "      <td>115.027311</td>\n",
       "      <td>NaN</td>\n",
       "      <td>10.0</td>\n",
       "      <td>4</td>\n",
       "      <td>10.0</td>\n",
       "      <td>2014</td>\n",
       "      <td>0.075424</td>\n",
       "      <td>...</td>\n",
       "      <td>B</td>\n",
       "      <td>11</td>\n",
       "      <td>3097</td>\n",
       "      <td>0</td>\n",
       "      <td>NaN</td>\n",
       "      <td>0</td>\n",
       "      <td>0</td>\n",
       "      <td>B</td>\n",
       "      <td>305018.871089</td>\n",
       "      <td>0</td>\n",
       "    </tr>\n",
       "    <tr>\n",
       "      <th>1</th>\n",
       "      <td>3013</td>\n",
       "      <td>22</td>\n",
       "      <td>1.0</td>\n",
       "      <td>39.832524</td>\n",
       "      <td>23.169223</td>\n",
       "      <td>8.0</td>\n",
       "      <td>7</td>\n",
       "      <td>8.0</td>\n",
       "      <td>1966</td>\n",
       "      <td>0.118537</td>\n",
       "      <td>...</td>\n",
       "      <td>B</td>\n",
       "      <td>30</td>\n",
       "      <td>6207</td>\n",
       "      <td>1</td>\n",
       "      <td>1183.0</td>\n",
       "      <td>1</td>\n",
       "      <td>0</td>\n",
       "      <td>B</td>\n",
       "      <td>177734.553407</td>\n",
       "      <td>0</td>\n",
       "    </tr>\n",
       "    <tr>\n",
       "      <th>2</th>\n",
       "      <td>8215</td>\n",
       "      <td>1</td>\n",
       "      <td>3.0</td>\n",
       "      <td>78.342215</td>\n",
       "      <td>47.671972</td>\n",
       "      <td>10.0</td>\n",
       "      <td>2</td>\n",
       "      <td>17.0</td>\n",
       "      <td>1988</td>\n",
       "      <td>0.025609</td>\n",
       "      <td>...</td>\n",
       "      <td>B</td>\n",
       "      <td>33</td>\n",
       "      <td>5261</td>\n",
       "      <td>0</td>\n",
       "      <td>240.0</td>\n",
       "      <td>3</td>\n",
       "      <td>1</td>\n",
       "      <td>B</td>\n",
       "      <td>282078.720850</td>\n",
       "      <td>0</td>\n",
       "    </tr>\n",
       "    <tr>\n",
       "      <th>3</th>\n",
       "      <td>2352</td>\n",
       "      <td>1</td>\n",
       "      <td>1.0</td>\n",
       "      <td>40.409907</td>\n",
       "      <td>NaN</td>\n",
       "      <td>1.0</td>\n",
       "      <td>10</td>\n",
       "      <td>22.0</td>\n",
       "      <td>1977</td>\n",
       "      <td>0.007122</td>\n",
       "      <td>...</td>\n",
       "      <td>B</td>\n",
       "      <td>1</td>\n",
       "      <td>264</td>\n",
       "      <td>0</td>\n",
       "      <td>NaN</td>\n",
       "      <td>0</td>\n",
       "      <td>1</td>\n",
       "      <td>B</td>\n",
       "      <td>168106.007630</td>\n",
       "      <td>0</td>\n",
       "    </tr>\n",
       "    <tr>\n",
       "      <th>4</th>\n",
       "      <td>13866</td>\n",
       "      <td>94</td>\n",
       "      <td>2.0</td>\n",
       "      <td>64.285067</td>\n",
       "      <td>38.562517</td>\n",
       "      <td>9.0</td>\n",
       "      <td>16</td>\n",
       "      <td>16.0</td>\n",
       "      <td>1972</td>\n",
       "      <td>0.282798</td>\n",
       "      <td>...</td>\n",
       "      <td>B</td>\n",
       "      <td>33</td>\n",
       "      <td>8667</td>\n",
       "      <td>2</td>\n",
       "      <td>NaN</td>\n",
       "      <td>0</td>\n",
       "      <td>6</td>\n",
       "      <td>B</td>\n",
       "      <td>343995.102962</td>\n",
       "      <td>0</td>\n",
       "    </tr>\n",
       "  </tbody>\n",
       "</table>\n",
       "<p>5 rows × 21 columns</p>\n",
       "</div>"
      ],
      "text/plain": [
       "      Id DistrictId  Rooms      Square  LifeSquare  KitchenSquare  Floor  \\\n",
       "0  11809         27    3.0  115.027311         NaN           10.0      4   \n",
       "1   3013         22    1.0   39.832524   23.169223            8.0      7   \n",
       "2   8215          1    3.0   78.342215   47.671972           10.0      2   \n",
       "3   2352          1    1.0   40.409907         NaN            1.0     10   \n",
       "4  13866         94    2.0   64.285067   38.562517            9.0     16   \n",
       "\n",
       "   HouseFloor  HouseYear  Ecology_1  ... Ecology_3 Social_1  Social_2  \\\n",
       "0        10.0       2014   0.075424  ...         B       11      3097   \n",
       "1         8.0       1966   0.118537  ...         B       30      6207   \n",
       "2        17.0       1988   0.025609  ...         B       33      5261   \n",
       "3        22.0       1977   0.007122  ...         B        1       264   \n",
       "4        16.0       1972   0.282798  ...         B       33      8667   \n",
       "\n",
       "   Social_3  Healthcare_1  Helthcare_2  Shops_1  Shops_2          Price  \\\n",
       "0         0           NaN            0        0        B  305018.871089   \n",
       "1         1        1183.0            1        0        B  177734.553407   \n",
       "2         0         240.0            3        1        B  282078.720850   \n",
       "3         0           NaN            0        1        B  168106.007630   \n",
       "4         2           NaN            0        6        B  343995.102962   \n",
       "\n",
       "   Rooms_outlier  \n",
       "0              0  \n",
       "1              0  \n",
       "2              0  \n",
       "3              0  \n",
       "4              0  \n",
       "\n",
       "[5 rows x 21 columns]"
      ]
     },
     "execution_count": 20,
     "metadata": {},
     "output_type": "execute_result"
    }
   ],
   "source": [
    "train_df['Rooms_outlier'] = 0\n",
    "train_df.loc[(train_df['Rooms'] == 0) | (train_df['Rooms'] >= 6), 'Rooms_outlier'] = 1\n",
    "train_df.head()"
   ]
  },
  {
   "cell_type": "markdown",
   "id": "f160e64a",
   "metadata": {},
   "source": [
    "Там где кол-во комнат == 0 ставим 1, а так где >=6 мы ставим - .median()."
   ]
  },
  {
   "cell_type": "code",
   "execution_count": 21,
   "id": "ebc4b931",
   "metadata": {},
   "outputs": [],
   "source": [
    "train_df.loc[train_df['Rooms'] == 0, 'Rooms'] = 1\n",
    "train_df.loc[train_df['Rooms'] >= 6, 'Rooms'] = train_df['Rooms'].median()"
   ]
  },
  {
   "cell_type": "code",
   "execution_count": 22,
   "id": "c7bb95f2",
   "metadata": {},
   "outputs": [
    {
     "data": {
      "text/plain": [
       "2.0    3884\n",
       "1.0    3713\n",
       "3.0    2235\n",
       "4.0     150\n",
       "5.0      18\n",
       "Name: Rooms, dtype: int64"
      ]
     },
     "execution_count": 22,
     "metadata": {},
     "output_type": "execute_result"
    }
   ],
   "source": [
    "train_df['Rooms'].value_counts()"
   ]
  },
  {
   "cell_type": "markdown",
   "id": "d78e3292",
   "metadata": {},
   "source": [
    "Теперь признак Rooms принял меньшее кол-во значений, и они более адекватные."
   ]
  },
  {
   "cell_type": "markdown",
   "id": "8909ff1f",
   "metadata": {},
   "source": [
    "Следующий признак - это площадь кухни, посмотрим сначала сколько уникальных значений и как часто встречаются они.\n"
   ]
  },
  {
   "cell_type": "code",
   "execution_count": 23,
   "id": "70f05ed5",
   "metadata": {},
   "outputs": [
    {
     "data": {
      "text/plain": [
       "1.0       2460\n",
       "8.0       1306\n",
       "5.0       1169\n",
       "10.0      1075\n",
       "6.0       1038\n",
       "9.0        843\n",
       "0.0        697\n",
       "7.0        609\n",
       "12.0       249\n",
       "11.0       233\n",
       "13.0        67\n",
       "14.0        51\n",
       "4.0         39\n",
       "15.0        31\n",
       "3.0         22\n",
       "16.0        16\n",
       "20.0        14\n",
       "17.0        12\n",
       "19.0        11\n",
       "18.0         6\n",
       "2.0          4\n",
       "22.0         3\n",
       "30.0         2\n",
       "43.0         2\n",
       "41.0         2\n",
       "112.0        2\n",
       "25.0         2\n",
       "51.0         2\n",
       "37.0         2\n",
       "58.0         2\n",
       "32.0         2\n",
       "21.0         1\n",
       "73.0         1\n",
       "75.0         1\n",
       "36.0         1\n",
       "27.0         1\n",
       "63.0         1\n",
       "1970.0       1\n",
       "54.0         1\n",
       "53.0         1\n",
       "60.0         1\n",
       "26.0         1\n",
       "66.0         1\n",
       "39.0         1\n",
       "29.0         1\n",
       "78.0         1\n",
       "31.0         1\n",
       "84.0         1\n",
       "48.0         1\n",
       "96.0         1\n",
       "42.0         1\n",
       "40.0         1\n",
       "23.0         1\n",
       "72.0         1\n",
       "35.0         1\n",
       "62.0         1\n",
       "123.0        1\n",
       "2014.0       1\n",
       "Name: KitchenSquare, dtype: int64"
      ]
     },
     "execution_count": 23,
     "metadata": {},
     "output_type": "execute_result"
    }
   ],
   "source": [
    "train_df['KitchenSquare'].value_counts()"
   ]
  },
  {
   "cell_type": "markdown",
   "id": "be30a1d0",
   "metadata": {},
   "source": [
    "На первом месте 1 кв.метр на кухню, есть 0 кв.м, есть 3кв.м чисто физически, что на 2-х кв.м, что на 1-ом кв.м на кухне не уместишься, но помимо маленьких значений есть и большие - 112 кв.м, есть 2014 кв.м, есть 1970 кв.м. Поэтому здесь воспользуемся универсальным подходом - с помощью .quantile(). Посчитаем quantile(.975)%"
   ]
  },
  {
   "cell_type": "code",
   "execution_count": 24,
   "id": "c258dc83",
   "metadata": {},
   "outputs": [
    {
     "data": {
      "text/plain": [
       "(13.0, 0.0)"
      ]
     },
     "execution_count": 24,
     "metadata": {},
     "output_type": "execute_result"
    }
   ],
   "source": [
    "train_df['KitchenSquare'].quantile(.975), train_df['KitchenSquare'].quantile(.025)"
   ]
  },
  {
   "cell_type": "markdown",
   "id": "711f1fbe",
   "metadata": {},
   "source": [
    "Так как quantile(.025) здесь получился 0 кв.м, а 0 кв.м это не адекватно, поэтому потом возьмём 3 кв.м. И если пл.кухни больше 13 кв.м, то будем считать это выбросом по quantile(.975)."
   ]
  },
  {
   "cell_type": "markdown",
   "id": "24a2f00a",
   "metadata": {},
   "source": [
    "Пропишем условие, что если площадь кухни пропуск - .isna(),либо пл.кухни больше заданного .quantile(.975) - больше 13 кв.м, то по данному условию, меняется значение в пл.кухни на медиану .median(). Так обработаем верхнюю границу, если очень большая площадь кухни, а нижнюю границу обработаем по условию меньше < 3 кв.м , если пл.кухни меньше 3 кв.м мы её меняем на 3 кв.м. Вот такая минимальная граница будет по площади кухни."
   ]
  },
  {
   "cell_type": "code",
   "execution_count": 25,
   "id": "610a5f96",
   "metadata": {},
   "outputs": [],
   "source": [
    "condition = (train_df['KitchenSquare'].isna()) \\\n",
    "             | (train_df['KitchenSquare'] > train_df['KitchenSquare'].quantile(.975))\n",
    "        \n",
    "train_df.loc[condition, 'KitchenSquare'] = train_df['KitchenSquare'].median()\n",
    "\n",
    "train_df.loc[train_df['KitchenSquare'] < 3, 'KitchenSquare'] = 3"
   ]
  },
  {
   "cell_type": "markdown",
   "id": "d3f377c6",
   "metadata": {},
   "source": [
    "И проверяем."
   ]
  },
  {
   "cell_type": "code",
   "execution_count": 26,
   "id": "6b3eed9b",
   "metadata": {},
   "outputs": [
    {
     "data": {
      "text/plain": [
       "3.0     3183\n",
       "8.0     1306\n",
       "6.0     1227\n",
       "5.0     1169\n",
       "10.0    1075\n",
       "9.0      843\n",
       "7.0      609\n",
       "12.0     249\n",
       "11.0     233\n",
       "13.0      67\n",
       "4.0       39\n",
       "Name: KitchenSquare, dtype: int64"
      ]
     },
     "execution_count": 26,
     "metadata": {},
     "output_type": "execute_result"
    }
   ],
   "source": [
    "train_df['KitchenSquare'].value_counts()"
   ]
  },
  {
   "cell_type": "markdown",
   "id": "07dd2dde",
   "metadata": {},
   "source": [
    "Вот теперь уникальных значений стало меньше. Они уже сами по себе тоже стали маленькими."
   ]
  },
  {
   "cell_type": "markdown",
   "id": "d0b8c052",
   "metadata": {},
   "source": [
    "Переходим к признакам связанных с этажами где стоят квартиры и с этажностью дома в целом, в к-ром эти кв. находятся. Смотрим на уникальные значения.\n"
   ]
  },
  {
   "cell_type": "code",
   "execution_count": 27,
   "id": "6107aa1e",
   "metadata": {},
   "outputs": [
    {
     "data": {
      "text/plain": [
       "array([ 1,  2,  3,  4,  5,  6,  7,  8,  9, 10, 11, 12, 13, 14, 15, 16, 17,\n",
       "       18, 19, 20, 21, 22, 23, 24, 25, 26, 27, 28, 31, 32, 33, 37, 42],\n",
       "      dtype=int64)"
      ]
     },
     "execution_count": 27,
     "metadata": {},
     "output_type": "execute_result"
    }
   ],
   "source": [
    "\n",
    "train_df['Floor'].sort_values().unique()\n"
   ]
  },
  {
   "cell_type": "markdown",
   "id": "2b9b2772",
   "metadata": {},
   "source": [
    "Здесь адекватные значения."
   ]
  },
  {
   "cell_type": "code",
   "execution_count": 28,
   "id": "a8b58291",
   "metadata": {},
   "outputs": [
    {
     "data": {
      "text/plain": [
       "array([  0.,   1.,   2.,   3.,   4.,   5.,   6.,   7.,   8.,   9.,  10.,\n",
       "        11.,  12.,  13.,  14.,  15.,  16.,  17.,  18.,  19.,  20.,  21.,\n",
       "        22.,  23.,  24.,  25.,  26.,  27.,  28.,  29.,  30.,  31.,  32.,\n",
       "        36.,  37.,  38.,  39.,  40.,  44.,  45.,  47.,  48.,  99., 117.])"
      ]
     },
     "execution_count": 28,
     "metadata": {},
     "output_type": "execute_result"
    }
   ],
   "source": [
    "train_df['HouseFloor'].sort_values().unique()"
   ]
  },
  {
   "cell_type": "markdown",
   "id": "a8574ca4",
   "metadata": {},
   "source": [
    "Вот есть дом с 0 этажей, есть с 99, а есть с 117-ю. данные по Москве, но всё равно это не адекватные признаки. Это выбросы."
   ]
  },
  {
   "cell_type": "code",
   "execution_count": 29,
   "id": "60079a30",
   "metadata": {},
   "outputs": [
    {
     "data": {
      "text/plain": [
       "1825"
      ]
     },
     "execution_count": 29,
     "metadata": {},
     "output_type": "execute_result"
    }
   ],
   "source": [
    "(train_df['Floor'] > train_df['HouseFloor']).sum()"
   ]
  },
  {
   "cell_type": "markdown",
   "id": "0baf4f80",
   "metadata": {},
   "source": [
    "Тут есть проблема, что есть этажи, к-рые больше этажности, и их много,1825 штук, примерно 1/5 часть данных.\n",
    "\n",
    "Сначала сделаем дополнительный признак показывающий, что с этажами было что-то не в порядке, и если этажность в доме равна 0, то ставим 1, делаем метку; и если этажи находятся выше этажности домов, то такое тоже помечаем 1."
   ]
  },
  {
   "cell_type": "code",
   "execution_count": 30,
   "id": "3a838a82",
   "metadata": {},
   "outputs": [],
   "source": [
    "train_df['HouseFloor_outlier'] = 0\n",
    "train_df.loc[train_df['HouseFloor'] == 0, 'HouseFloor_outlier'] = 1\n",
    "train_df.loc[train_df['Floor'] > train_df['HouseFloor'], 'HouseFloor_outlier'] = 1"
   ]
  },
  {
   "cell_type": "markdown",
   "id": "0b1e276f",
   "metadata": {},
   "source": [
    "Там где этажность равна 0 - меняем значение на median()."
   ]
  },
  {
   "cell_type": "code",
   "execution_count": 31,
   "id": "2998bf24",
   "metadata": {},
   "outputs": [],
   "source": [
    "train_df.loc[train_df['HouseFloor'] == 0, 'HouseFloor'] = train_df['HouseFloor'].median()"
   ]
  },
  {
   "cell_type": "markdown",
   "id": "e755a912",
   "metadata": {},
   "source": [
    "И теперь поработаем с квартирами где этаж больше этажности."
   ]
  },
  {
   "cell_type": "code",
   "execution_count": 32,
   "id": "afe018bd",
   "metadata": {},
   "outputs": [
    {
     "data": {
      "text/plain": [
       "Int64Index([  17,   19,   21,   25,   26,   33,   34,   37,   39,   44,\n",
       "            ...\n",
       "            9913, 9921, 9930, 9931, 9938, 9953, 9960, 9968, 9970, 9975],\n",
       "           dtype='int64', length=1610)"
      ]
     },
     "execution_count": 32,
     "metadata": {},
     "output_type": "execute_result"
    }
   ],
   "source": [
    "floor_outliers = train_df.loc[train_df['Floor'] > train_df['HouseFloor']].index\n",
    "floor_outliers"
   ]
  },
  {
   "cell_type": "markdown",
   "id": "48c4b24f",
   "metadata": {},
   "source": [
    "Возьмём индексы этих объектов их уже стало меньше 1610.(когда мы 0 этаж поменяли на median() то несколько квартир попали в дом, под крышу), но много неадекватных значений осталось, их с помощью random.randint, можно в случайное место запихнуть квартиру. Взять объекты по этим индексам 'Floor', где этаж больше этажности, взять в этих объектах признак этажности 'HouseFloor' эту цифру, и случайно взять этаж от 1 до этажности (1, x)."
   ]
  },
  {
   "cell_type": "code",
   "execution_count": 33,
   "id": "26f8d483",
   "metadata": {},
   "outputs": [],
   "source": [
    "train_df.loc[floor_outliers, 'Floor'] = train_df.loc[floor_outliers, 'HouseFloor']\\\n",
    "                                                .apply(lambda x: random.randint(1, x))"
   ]
  },
  {
   "cell_type": "markdown",
   "id": "4b7191a2",
   "metadata": {},
   "source": [
    "Вот в случайное место в доме положили квартиру."
   ]
  },
  {
   "cell_type": "code",
   "execution_count": 34,
   "id": "469e57a7",
   "metadata": {},
   "outputs": [
    {
     "data": {
      "text/plain": [
       "0"
      ]
     },
     "execution_count": 34,
     "metadata": {},
     "output_type": "execute_result"
    }
   ],
   "source": [
    "(train_df['Floor'] > train_df['HouseFloor']).sum()"
   ]
  },
  {
   "cell_type": "markdown",
   "id": "0020a2e8",
   "metadata": {},
   "source": [
    "И вот после такой обработки становиться неадекватных объектов - 0. Что, в принципе, идеально."
   ]
  },
  {
   "cell_type": "markdown",
   "id": "8084cb93",
   "metadata": {},
   "source": [
    "Смотрим на признак постройки домов."
   ]
  },
  {
   "cell_type": "code",
   "execution_count": 35,
   "id": "33bae276",
   "metadata": {},
   "outputs": [
    {
     "data": {
      "text/plain": [
       "9163    20052011\n",
       "8828        4968\n",
       "7721        2020\n",
       "9122        2020\n",
       "7955        2020\n",
       "          ...   \n",
       "7610        1916\n",
       "6250        1914\n",
       "2066        1912\n",
       "2795        1912\n",
       "6794        1910\n",
       "Name: HouseYear, Length: 10000, dtype: int64"
      ]
     },
     "execution_count": 35,
     "metadata": {},
     "output_type": "execute_result"
    }
   ],
   "source": [
    "train_df['HouseYear'].sort_values(ascending=False)"
   ]
  },
  {
   "cell_type": "markdown",
   "id": "b216f9b1",
   "metadata": {},
   "source": [
    "Здесь есть два очень больших значения - 20052011, это скоре всего период постройки, с 2005 по 2011, и есть дом из будущего - 4962 года, но тут навярняка 4 спутали с 1, когда такая ситуация в данных - 1,2 объекта неадекватные лучше делать универсальную замену, сравнивая с максимальным, адекватным годом, и если у нас есть объекты, где год постройки больше самого максимального адекватного года, типа 2021, то заполнять его на 2021."
   ]
  },
  {
   "cell_type": "code",
   "execution_count": 36,
   "id": "ff1d555b",
   "metadata": {},
   "outputs": [],
   "source": [
    "train_df.loc[train_df['HouseYear'] > 2021, 'HouseYear'] = 2021"
   ]
  },
  {
   "cell_type": "markdown",
   "id": "084e479b",
   "metadata": {},
   "source": [
    "3. Обработка пропусков"
   ]
  },
  {
   "cell_type": "code",
   "execution_count": 37,
   "id": "d534a8ea",
   "metadata": {},
   "outputs": [
    {
     "data": {
      "text/plain": [
       "Id                       0\n",
       "DistrictId               0\n",
       "Rooms                    0\n",
       "Square                   0\n",
       "LifeSquare            2113\n",
       "KitchenSquare            0\n",
       "Floor                    0\n",
       "HouseFloor               0\n",
       "HouseYear                0\n",
       "Ecology_1                0\n",
       "Ecology_2                0\n",
       "Ecology_3                0\n",
       "Social_1                 0\n",
       "Social_2                 0\n",
       "Social_3                 0\n",
       "Healthcare_1          4798\n",
       "Helthcare_2              0\n",
       "Shops_1                  0\n",
       "Shops_2                  0\n",
       "Price                    0\n",
       "Rooms_outlier            0\n",
       "HouseFloor_outlier       0\n",
       "dtype: int64"
      ]
     },
     "execution_count": 37,
     "metadata": {},
     "output_type": "execute_result"
    }
   ],
   "source": [
    "train_df.isna().sum()"
   ]
  },
  {
   "cell_type": "markdown",
   "id": "61181279",
   "metadata": {},
   "source": [
    "Тут есть два признака с пропусками это LifeSquare - 2113 и Healthcare_1 - 4798.\n",
    "\n",
    "Начнём с жилой(LifeSquare), помимо жилой площади есть общая и площадь кухни. Соответственно можно воспользоваться всей площадью(Square) и пл. кухни(KitchenSquare) что бы заменить пропуски жилой пл. Совершенно логично, что если взять всю площадь, вычесть из неё пл.кухни и вычесть из неё что-то нежилое - разные корридоры, балконы, кладовки, туалеты, то в потенциале получим жилую площадь"
   ]
  },
  {
   "cell_type": "code",
   "execution_count": 38,
   "id": "a7448cee",
   "metadata": {},
   "outputs": [
    {
     "data": {
      "text/html": [
       "<div>\n",
       "<style scoped>\n",
       "    .dataframe tbody tr th:only-of-type {\n",
       "        vertical-align: middle;\n",
       "    }\n",
       "\n",
       "    .dataframe tbody tr th {\n",
       "        vertical-align: top;\n",
       "    }\n",
       "\n",
       "    .dataframe thead th {\n",
       "        text-align: right;\n",
       "    }\n",
       "</style>\n",
       "<table border=\"1\" class=\"dataframe\">\n",
       "  <thead>\n",
       "    <tr style=\"text-align: right;\">\n",
       "      <th></th>\n",
       "      <th>Square</th>\n",
       "      <th>LifeSquare</th>\n",
       "      <th>KitchenSquare</th>\n",
       "    </tr>\n",
       "  </thead>\n",
       "  <tbody>\n",
       "    <tr>\n",
       "      <th>0</th>\n",
       "      <td>115.027311</td>\n",
       "      <td>NaN</td>\n",
       "      <td>10.0</td>\n",
       "    </tr>\n",
       "    <tr>\n",
       "      <th>1</th>\n",
       "      <td>39.832524</td>\n",
       "      <td>23.169223</td>\n",
       "      <td>8.0</td>\n",
       "    </tr>\n",
       "    <tr>\n",
       "      <th>2</th>\n",
       "      <td>78.342215</td>\n",
       "      <td>47.671972</td>\n",
       "      <td>10.0</td>\n",
       "    </tr>\n",
       "    <tr>\n",
       "      <th>3</th>\n",
       "      <td>40.409907</td>\n",
       "      <td>NaN</td>\n",
       "      <td>3.0</td>\n",
       "    </tr>\n",
       "    <tr>\n",
       "      <th>4</th>\n",
       "      <td>64.285067</td>\n",
       "      <td>38.562517</td>\n",
       "      <td>9.0</td>\n",
       "    </tr>\n",
       "    <tr>\n",
       "      <th>5</th>\n",
       "      <td>62.528465</td>\n",
       "      <td>47.103833</td>\n",
       "      <td>6.0</td>\n",
       "    </tr>\n",
       "    <tr>\n",
       "      <th>6</th>\n",
       "      <td>33.938750</td>\n",
       "      <td>21.772930</td>\n",
       "      <td>9.0</td>\n",
       "    </tr>\n",
       "    <tr>\n",
       "      <th>7</th>\n",
       "      <td>50.391814</td>\n",
       "      <td>32.893256</td>\n",
       "      <td>8.0</td>\n",
       "    </tr>\n",
       "    <tr>\n",
       "      <th>8</th>\n",
       "      <td>46.887892</td>\n",
       "      <td>44.628132</td>\n",
       "      <td>3.0</td>\n",
       "    </tr>\n",
       "    <tr>\n",
       "      <th>9</th>\n",
       "      <td>79.867477</td>\n",
       "      <td>75.085125</td>\n",
       "      <td>3.0</td>\n",
       "    </tr>\n",
       "  </tbody>\n",
       "</table>\n",
       "</div>"
      ],
      "text/plain": [
       "       Square  LifeSquare  KitchenSquare\n",
       "0  115.027311         NaN           10.0\n",
       "1   39.832524   23.169223            8.0\n",
       "2   78.342215   47.671972           10.0\n",
       "3   40.409907         NaN            3.0\n",
       "4   64.285067   38.562517            9.0\n",
       "5   62.528465   47.103833            6.0\n",
       "6   33.938750   21.772930            9.0\n",
       "7   50.391814   32.893256            8.0\n",
       "8   46.887892   44.628132            3.0\n",
       "9   79.867477   75.085125            3.0"
      ]
     },
     "execution_count": 38,
     "metadata": {},
     "output_type": "execute_result"
    }
   ],
   "source": [
    "train_df[['Square', 'LifeSquare', 'KitchenSquare']].head(10)"
   ]
  },
  {
   "cell_type": "markdown",
   "id": "d6811df4",
   "metadata": {},
   "source": [
    "Сделаем метку этого признака, что там был пропуск. 1 - если пропуск есть, 0 - если пропуска нет. Далее напишем условие, что если в жилой пл. есть пропуск, и при этом пропуска нет во всей пл. и в пл. кухни, то мы по этому условию будем находить разницу между всей пл., пл. кухни , и какими-нибудь 3 кв.м на всё -про-всё нежилое. вот таким образом будем получать жилую площадь зная всю пл. , пл.кухни, и -3кв.м на балконы, кладовки и т.д."
   ]
  },
  {
   "cell_type": "code",
   "execution_count": 39,
   "id": "23ff76d4",
   "metadata": {},
   "outputs": [],
   "source": [
    "train_df['LifeSquare_nan'] = train_df['LifeSquare'].isna() * 1\n",
    "\n",
    "condition = (train_df['LifeSquare'].isna()) \\\n",
    "             & (~train_df['Square'].isna()) \\\n",
    "             & (~train_df['KitchenSquare'].isna())\n",
    "        \n",
    "train_df.loc[condition, 'LifeSquare'] = train_df.loc[condition, 'Square'] \\\n",
    "                                            - train_df.loc[condition, 'KitchenSquare'] - 3"
   ]
  },
  {
   "cell_type": "markdown",
   "id": "856815b8",
   "metadata": {},
   "source": [
    "И ещё есть Healthcare_1, в котором есть пропуски. Ну там пропусков очень много, практически половина объектов - это пропуски, то такое, в принципе можно выкинуть."
   ]
  },
  {
   "cell_type": "code",
   "execution_count": 40,
   "id": "8bb9bcc2",
   "metadata": {},
   "outputs": [],
   "source": [
    "train_df.drop('Healthcare_1', axis=1, inplace=True)"
   ]
  },
  {
   "cell_type": "markdown",
   "id": "a2cfb9b6",
   "metadata": {},
   "source": [
    "Итак, обработали данные, но что бы все эти обработки применить и к валидации, и к тестовому набору данных нужно все эти обработки оформить в виде класса или функции, что б это было принимимо ко всем новым датасетам. Соответственно оформляем наш class DataPreprocessing, здесь будет происходить вся подготовка данных"
   ]
  },
  {
   "cell_type": "code",
   "execution_count": 41,
   "id": "3f31f8a6",
   "metadata": {},
   "outputs": [],
   "source": [
    "class DataPreprocessing:\n",
    "    \"\"\"Подготовка исходных данных\"\"\"\n",
    "\n",
    "    def __init__(self):\n",
    "        \"\"\"Параметры класса\"\"\"\n",
    "        self.medians = None\n",
    "        self.kitchen_square_quantile = None\n",
    "        \n",
    "    def fit(self, X):\n",
    "        \"\"\"Сохранение статистик\"\"\"       \n",
    "        # Расчет медиан\n",
    "        self.medians = X.median()\n",
    "        self.kitchen_square_quantile = X['KitchenSquare'].quantile(.975)\n",
    "    \n",
    "    def transform(self, X):\n",
    "        \"\"\"Трансформация данных\"\"\"\n",
    "\n",
    "        # Rooms\n",
    "        X['Rooms_outlier'] = 0\n",
    "        X.loc[(X['Rooms'] == 0) | (X['Rooms'] >= 6), 'Rooms_outlier'] = 1\n",
    "        \n",
    "        X.loc[X['Rooms'] == 0, 'Rooms'] = 1\n",
    "        X.loc[X['Rooms'] >= 6, 'Rooms'] = self.medians['Rooms']\n",
    "        \n",
    "        # KitchenSquare\n",
    "        condition = (X['KitchenSquare'].isna()) \\\n",
    "                    | (X['KitchenSquare'] > self.kitchen_square_quantile)\n",
    "        \n",
    "        X.loc[condition, 'KitchenSquare'] = self.medians['KitchenSquare']\n",
    "\n",
    "        X.loc[X['KitchenSquare'] < 3, 'KitchenSquare'] = 3\n",
    "        \n",
    "        # HouseFloor, Floor\n",
    "        X['HouseFloor_outlier'] = 0\n",
    "        X.loc[X['HouseFloor'] == 0, 'HouseFloor_outlier'] = 1\n",
    "        X.loc[X['Floor'] > X['HouseFloor'], 'HouseFloor_outlier'] = 1\n",
    "        \n",
    "        X.loc[X['HouseFloor'] == 0, 'HouseFloor'] = self.medians['HouseFloor']\n",
    "        \n",
    "        floor_outliers = X.loc[X['Floor'] > X['HouseFloor']].index\n",
    "        X.loc[floor_outliers, 'Floor'] = X.loc[floor_outliers, 'HouseFloor']\\\n",
    "                                            .apply(lambda x: random.randint(1, x))\n",
    "        \n",
    "        # HouseYear\n",
    "        current_year = datetime.now().year\n",
    "        \n",
    "        X['HouseYear_outlier'] = 0\n",
    "        X.loc[X['HouseYear'] > current_year, 'HouseYear_outlier'] = 1\n",
    "        \n",
    "        X.loc[X['HouseYear'] > current_year, 'HouseYear'] = current_year\n",
    "        \n",
    "        # Healthcare_1\n",
    "        if 'Healthcare_1' in X.columns:\n",
    "            X.drop('Healthcare_1', axis=1, inplace=True)\n",
    "            \n",
    "        # LifeSquare\n",
    "        X['LifeSquare_nan'] = X['LifeSquare'].isna() * 1\n",
    "        condition = (X['LifeSquare'].isna()) & \\\n",
    "                      (~X['Square'].isna()) & \\\n",
    "                      (~X['KitchenSquare'].isna())\n",
    "        \n",
    "        X.loc[condition, 'LifeSquare'] = X.loc[condition, 'Square'] - X.loc[condition, 'KitchenSquare'] - 3\n",
    "        \n",
    "        \n",
    "        X.fillna(self.medians, inplace=True)\n",
    "        \n",
    "        return X"
   ]
  },
  {
   "cell_type": "markdown",
   "id": "dc5306fb",
   "metadata": {},
   "source": [
    "4. Построение новых признаков\n",
    "\n",
    "Давайте прогенерируем новые признаки. Начнём с перевода категории во что-то вещественное.\n",
    "\n",
    "Имеем категории 'Ecology_2', 'Ecology_3' и 'Shops_2' - там всего лишь два уникальных значения, которые легко переводятиься в 0 и 1. Из А в 0, из В в 1 - мы получаем новые бинарные признаки. Это можно делать с помощью словаря, который мы передаём в .replace() - значения меняются и становяться бинарными признаками."
   ]
  },
  {
   "cell_type": "code",
   "execution_count": 42,
   "id": "bee21cdf",
   "metadata": {},
   "outputs": [],
   "source": [
    "binary_to_numbers = {'A': 0, 'B': 1}\n",
    "\n",
    "train_df['Ecology_2'] = train_df['Ecology_2'].replace(binary_to_numbers)\n",
    "train_df['Ecology_3'] = train_df['Ecology_3'].replace(binary_to_numbers)\n",
    "train_df['Shops_2'] = train_df['Shops_2'].replace(binary_to_numbers)"
   ]
  },
  {
   "cell_type": "markdown",
   "id": "16dbdf4f",
   "metadata": {},
   "source": [
    "DistrictId - это DistrictId района, мы меняем его с помощью .value_counts() на подсчитанные квартиры - сколько находиться в каждом районе. Готовим небольшой датафрейм, переменуем колонки из индекса на DistrictId, а потом кол-во объектов, сколько было во всех этих районах мы переменуем на DistrictSize."
   ]
  },
  {
   "cell_type": "code",
   "execution_count": 43,
   "id": "8004f94c",
   "metadata": {},
   "outputs": [
    {
     "data": {
      "text/html": [
       "<div>\n",
       "<style scoped>\n",
       "    .dataframe tbody tr th:only-of-type {\n",
       "        vertical-align: middle;\n",
       "    }\n",
       "\n",
       "    .dataframe tbody tr th {\n",
       "        vertical-align: top;\n",
       "    }\n",
       "\n",
       "    .dataframe thead th {\n",
       "        text-align: right;\n",
       "    }\n",
       "</style>\n",
       "<table border=\"1\" class=\"dataframe\">\n",
       "  <thead>\n",
       "    <tr style=\"text-align: right;\">\n",
       "      <th></th>\n",
       "      <th>DistrictId</th>\n",
       "      <th>DistrictSize</th>\n",
       "    </tr>\n",
       "  </thead>\n",
       "  <tbody>\n",
       "    <tr>\n",
       "      <th>0</th>\n",
       "      <td>27</td>\n",
       "      <td>851</td>\n",
       "    </tr>\n",
       "    <tr>\n",
       "      <th>1</th>\n",
       "      <td>1</td>\n",
       "      <td>652</td>\n",
       "    </tr>\n",
       "    <tr>\n",
       "      <th>2</th>\n",
       "      <td>23</td>\n",
       "      <td>565</td>\n",
       "    </tr>\n",
       "    <tr>\n",
       "      <th>3</th>\n",
       "      <td>6</td>\n",
       "      <td>511</td>\n",
       "    </tr>\n",
       "    <tr>\n",
       "      <th>4</th>\n",
       "      <td>9</td>\n",
       "      <td>294</td>\n",
       "    </tr>\n",
       "  </tbody>\n",
       "</table>\n",
       "</div>"
      ],
      "text/plain": [
       "  DistrictId  DistrictSize\n",
       "0         27           851\n",
       "1          1           652\n",
       "2         23           565\n",
       "3          6           511\n",
       "4          9           294"
      ]
     },
     "execution_count": 43,
     "metadata": {},
     "output_type": "execute_result"
    }
   ],
   "source": [
    "district_size = train_df['DistrictId'].value_counts().reset_index()\\\n",
    "                    .rename(columns={'index':'DistrictId', 'DistrictId':'DistrictSize'})\n",
    "\n",
    "district_size.head()"
   ]
  },
  {
   "cell_type": "markdown",
   "id": "d3e45790",
   "metadata": {},
   "source": [
    "Получилась такая вспомогательная таблица перевода из категории во что-то вещественное, к-ую надо использовать для кодирования всех категорий района. Присоединяем обучаещёму датасету эту вспомогательную таблицу."
   ]
  },
  {
   "cell_type": "code",
   "execution_count": 44,
   "id": "7cab8d19",
   "metadata": {},
   "outputs": [
    {
     "data": {
      "text/html": [
       "<div>\n",
       "<style scoped>\n",
       "    .dataframe tbody tr th:only-of-type {\n",
       "        vertical-align: middle;\n",
       "    }\n",
       "\n",
       "    .dataframe tbody tr th {\n",
       "        vertical-align: top;\n",
       "    }\n",
       "\n",
       "    .dataframe thead th {\n",
       "        text-align: right;\n",
       "    }\n",
       "</style>\n",
       "<table border=\"1\" class=\"dataframe\">\n",
       "  <thead>\n",
       "    <tr style=\"text-align: right;\">\n",
       "      <th></th>\n",
       "      <th>Id</th>\n",
       "      <th>DistrictId</th>\n",
       "      <th>Rooms</th>\n",
       "      <th>Square</th>\n",
       "      <th>LifeSquare</th>\n",
       "      <th>KitchenSquare</th>\n",
       "      <th>Floor</th>\n",
       "      <th>HouseFloor</th>\n",
       "      <th>HouseYear</th>\n",
       "      <th>Ecology_1</th>\n",
       "      <th>...</th>\n",
       "      <th>Social_2</th>\n",
       "      <th>Social_3</th>\n",
       "      <th>Helthcare_2</th>\n",
       "      <th>Shops_1</th>\n",
       "      <th>Shops_2</th>\n",
       "      <th>Price</th>\n",
       "      <th>Rooms_outlier</th>\n",
       "      <th>HouseFloor_outlier</th>\n",
       "      <th>LifeSquare_nan</th>\n",
       "      <th>DistrictSize</th>\n",
       "    </tr>\n",
       "  </thead>\n",
       "  <tbody>\n",
       "    <tr>\n",
       "      <th>0</th>\n",
       "      <td>11809</td>\n",
       "      <td>27</td>\n",
       "      <td>3.0</td>\n",
       "      <td>115.027311</td>\n",
       "      <td>102.027311</td>\n",
       "      <td>10.0</td>\n",
       "      <td>4</td>\n",
       "      <td>10.0</td>\n",
       "      <td>2014</td>\n",
       "      <td>0.075424</td>\n",
       "      <td>...</td>\n",
       "      <td>3097</td>\n",
       "      <td>0</td>\n",
       "      <td>0</td>\n",
       "      <td>0</td>\n",
       "      <td>1</td>\n",
       "      <td>305018.871089</td>\n",
       "      <td>0</td>\n",
       "      <td>0</td>\n",
       "      <td>1</td>\n",
       "      <td>851</td>\n",
       "    </tr>\n",
       "    <tr>\n",
       "      <th>1</th>\n",
       "      <td>3013</td>\n",
       "      <td>22</td>\n",
       "      <td>1.0</td>\n",
       "      <td>39.832524</td>\n",
       "      <td>23.169223</td>\n",
       "      <td>8.0</td>\n",
       "      <td>7</td>\n",
       "      <td>8.0</td>\n",
       "      <td>1966</td>\n",
       "      <td>0.118537</td>\n",
       "      <td>...</td>\n",
       "      <td>6207</td>\n",
       "      <td>1</td>\n",
       "      <td>1</td>\n",
       "      <td>0</td>\n",
       "      <td>1</td>\n",
       "      <td>177734.553407</td>\n",
       "      <td>0</td>\n",
       "      <td>0</td>\n",
       "      <td>0</td>\n",
       "      <td>78</td>\n",
       "    </tr>\n",
       "    <tr>\n",
       "      <th>2</th>\n",
       "      <td>8215</td>\n",
       "      <td>1</td>\n",
       "      <td>3.0</td>\n",
       "      <td>78.342215</td>\n",
       "      <td>47.671972</td>\n",
       "      <td>10.0</td>\n",
       "      <td>2</td>\n",
       "      <td>17.0</td>\n",
       "      <td>1988</td>\n",
       "      <td>0.025609</td>\n",
       "      <td>...</td>\n",
       "      <td>5261</td>\n",
       "      <td>0</td>\n",
       "      <td>3</td>\n",
       "      <td>1</td>\n",
       "      <td>1</td>\n",
       "      <td>282078.720850</td>\n",
       "      <td>0</td>\n",
       "      <td>0</td>\n",
       "      <td>0</td>\n",
       "      <td>652</td>\n",
       "    </tr>\n",
       "    <tr>\n",
       "      <th>3</th>\n",
       "      <td>2352</td>\n",
       "      <td>1</td>\n",
       "      <td>1.0</td>\n",
       "      <td>40.409907</td>\n",
       "      <td>34.409907</td>\n",
       "      <td>3.0</td>\n",
       "      <td>10</td>\n",
       "      <td>22.0</td>\n",
       "      <td>1977</td>\n",
       "      <td>0.007122</td>\n",
       "      <td>...</td>\n",
       "      <td>264</td>\n",
       "      <td>0</td>\n",
       "      <td>0</td>\n",
       "      <td>1</td>\n",
       "      <td>1</td>\n",
       "      <td>168106.007630</td>\n",
       "      <td>0</td>\n",
       "      <td>0</td>\n",
       "      <td>1</td>\n",
       "      <td>652</td>\n",
       "    </tr>\n",
       "    <tr>\n",
       "      <th>4</th>\n",
       "      <td>13866</td>\n",
       "      <td>94</td>\n",
       "      <td>2.0</td>\n",
       "      <td>64.285067</td>\n",
       "      <td>38.562517</td>\n",
       "      <td>9.0</td>\n",
       "      <td>16</td>\n",
       "      <td>16.0</td>\n",
       "      <td>1972</td>\n",
       "      <td>0.282798</td>\n",
       "      <td>...</td>\n",
       "      <td>8667</td>\n",
       "      <td>2</td>\n",
       "      <td>0</td>\n",
       "      <td>6</td>\n",
       "      <td>1</td>\n",
       "      <td>343995.102962</td>\n",
       "      <td>0</td>\n",
       "      <td>0</td>\n",
       "      <td>0</td>\n",
       "      <td>89</td>\n",
       "    </tr>\n",
       "  </tbody>\n",
       "</table>\n",
       "<p>5 rows × 23 columns</p>\n",
       "</div>"
      ],
      "text/plain": [
       "      Id DistrictId  Rooms      Square  LifeSquare  KitchenSquare  Floor  \\\n",
       "0  11809         27    3.0  115.027311  102.027311           10.0      4   \n",
       "1   3013         22    1.0   39.832524   23.169223            8.0      7   \n",
       "2   8215          1    3.0   78.342215   47.671972           10.0      2   \n",
       "3   2352          1    1.0   40.409907   34.409907            3.0     10   \n",
       "4  13866         94    2.0   64.285067   38.562517            9.0     16   \n",
       "\n",
       "   HouseFloor  HouseYear  Ecology_1  ...  Social_2  Social_3  Helthcare_2  \\\n",
       "0        10.0       2014   0.075424  ...      3097         0            0   \n",
       "1         8.0       1966   0.118537  ...      6207         1            1   \n",
       "2        17.0       1988   0.025609  ...      5261         0            3   \n",
       "3        22.0       1977   0.007122  ...       264         0            0   \n",
       "4        16.0       1972   0.282798  ...      8667         2            0   \n",
       "\n",
       "   Shops_1  Shops_2          Price  Rooms_outlier  HouseFloor_outlier  \\\n",
       "0        0        1  305018.871089              0                   0   \n",
       "1        0        1  177734.553407              0                   0   \n",
       "2        1        1  282078.720850              0                   0   \n",
       "3        1        1  168106.007630              0                   0   \n",
       "4        6        1  343995.102962              0                   0   \n",
       "\n",
       "   LifeSquare_nan  DistrictSize  \n",
       "0               1           851  \n",
       "1               0            78  \n",
       "2               0           652  \n",
       "3               1           652  \n",
       "4               0            89  \n",
       "\n",
       "[5 rows x 23 columns]"
      ]
     },
     "execution_count": 44,
     "metadata": {},
     "output_type": "execute_result"
    }
   ],
   "source": [
    "train_df = train_df.merge(district_size, on='DistrictId', how='left')\n",
    "train_df.head()"
   ]
  },
  {
   "cell_type": "markdown",
   "id": "db02f23e",
   "metadata": {},
   "source": [
    "Вот тут показано что первый район 27 он описывается цифрой 851, её видим в новой колонке DistrictSize. Далее можно убрать признак DistrictId из обучения и обучаться только на DistrictSize.\n",
    "\n",
    "Вот таким образом перевели из категории во что-то вещественное через описание признака через самого себя.\n",
    "\n",
    "Сделаем ещё один признак - бинарный - большой или небольшой район. Условно будем считать, что если в районе более ста квартир, то это большой район, если меньше, то значит это будет маленький район."
   ]
  },
  {
   "cell_type": "code",
   "execution_count": 45,
   "id": "1c5565aa",
   "metadata": {},
   "outputs": [
    {
     "data": {
      "text/plain": [
       "True     5069\n",
       "False    4931\n",
       "Name: DistrictSize, dtype: int64"
      ]
     },
     "execution_count": 45,
     "metadata": {},
     "output_type": "execute_result"
    }
   ],
   "source": [
    "(train_df['DistrictSize'] > 100).value_counts()"
   ]
  },
  {
   "cell_type": "code",
   "execution_count": 46,
   "id": "421a5af6",
   "metadata": {},
   "outputs": [],
   "source": [
    "train_df['IsDistrictLarge'] = (train_df['DistrictSize'] > 100).astype(int)"
   ]
  },
  {
   "cell_type": "markdown",
   "id": "6c021d2a",
   "metadata": {},
   "source": [
    "Самыми полезными признаками считаются Target encoding это когда целевую переменную кодируем через другие признаки. Здесь предсказыаем стоимость квартиры и логично что стоимость квартиры варьируется как зависимость от района и кол-ва комнат, поэтому сделаем группировку от района и от кол-ва комнат, посчитаем медианую целевую переменную. И так же её переименуем, что бы не было наслоения одинаковых наименований колонок."
   ]
  },
  {
   "cell_type": "code",
   "execution_count": 47,
   "id": "df32eb21",
   "metadata": {},
   "outputs": [
    {
     "data": {
      "text/html": [
       "<div>\n",
       "<style scoped>\n",
       "    .dataframe tbody tr th:only-of-type {\n",
       "        vertical-align: middle;\n",
       "    }\n",
       "\n",
       "    .dataframe tbody tr th {\n",
       "        vertical-align: top;\n",
       "    }\n",
       "\n",
       "    .dataframe thead th {\n",
       "        text-align: right;\n",
       "    }\n",
       "</style>\n",
       "<table border=\"1\" class=\"dataframe\">\n",
       "  <thead>\n",
       "    <tr style=\"text-align: right;\">\n",
       "      <th></th>\n",
       "      <th>DistrictId</th>\n",
       "      <th>Rooms</th>\n",
       "      <th>MedPriceByDistrict</th>\n",
       "    </tr>\n",
       "  </thead>\n",
       "  <tbody>\n",
       "    <tr>\n",
       "      <th>0</th>\n",
       "      <td>0</td>\n",
       "      <td>1.0</td>\n",
       "      <td>142799.434052</td>\n",
       "    </tr>\n",
       "    <tr>\n",
       "      <th>1</th>\n",
       "      <td>0</td>\n",
       "      <td>2.0</td>\n",
       "      <td>176210.812334</td>\n",
       "    </tr>\n",
       "    <tr>\n",
       "      <th>2</th>\n",
       "      <td>0</td>\n",
       "      <td>3.0</td>\n",
       "      <td>300610.359425</td>\n",
       "    </tr>\n",
       "    <tr>\n",
       "      <th>3</th>\n",
       "      <td>1</td>\n",
       "      <td>1.0</td>\n",
       "      <td>146735.671740</td>\n",
       "    </tr>\n",
       "    <tr>\n",
       "      <th>4</th>\n",
       "      <td>1</td>\n",
       "      <td>2.0</td>\n",
       "      <td>202666.310126</td>\n",
       "    </tr>\n",
       "  </tbody>\n",
       "</table>\n",
       "</div>"
      ],
      "text/plain": [
       "  DistrictId  Rooms  MedPriceByDistrict\n",
       "0          0    1.0       142799.434052\n",
       "1          0    2.0       176210.812334\n",
       "2          0    3.0       300610.359425\n",
       "3          1    1.0       146735.671740\n",
       "4          1    2.0       202666.310126"
      ]
     },
     "execution_count": 47,
     "metadata": {},
     "output_type": "execute_result"
    }
   ],
   "source": [
    "med_price_by_district = train_df.groupby(['DistrictId', 'Rooms'], as_index=False).agg({'Price':'median'})\\\n",
    "                            .rename(columns={'Price':'MedPriceByDistrict'})\n",
    "\n",
    "med_price_by_district.head()"
   ]
  },
  {
   "cell_type": "markdown",
   "id": "a33e6403",
   "metadata": {},
   "source": [
    "Здесь для всех уникальных значений DistrictId, для всех уникальных значений Rooms подсчитались в MedPriceByDistrict, т.е. если квартира находится в 0 районе, имеет 1 комнату,, то стоимость будет 142к... при этом если 1 комн. кв. в 1 районе, то ст. - 146к... Т.е. в зависимости от района, от кол-ва комнат действительно целевая переменная изменяется."
   ]
  },
  {
   "cell_type": "code",
   "execution_count": 48,
   "id": "12598beb",
   "metadata": {},
   "outputs": [
    {
     "data": {
      "text/plain": [
       "(667, 3)"
      ]
     },
     "execution_count": 48,
     "metadata": {},
     "output_type": "execute_result"
    }
   ],
   "source": [
    "med_price_by_district.shape"
   ]
  },
  {
   "cell_type": "markdown",
   "id": "523b0cd9",
   "metadata": {},
   "source": [
    "667 уникальных значений у нас получилось и теперь такую вспомогательную таблицу, к-ая в себе содержит кодирование для нового признака, присоединяем исходному датасету. Соеденяем её уже по двум колонкам."
   ]
  },
  {
   "cell_type": "code",
   "execution_count": 49,
   "id": "60e7a218",
   "metadata": {},
   "outputs": [
    {
     "data": {
      "text/html": [
       "<div>\n",
       "<style scoped>\n",
       "    .dataframe tbody tr th:only-of-type {\n",
       "        vertical-align: middle;\n",
       "    }\n",
       "\n",
       "    .dataframe tbody tr th {\n",
       "        vertical-align: top;\n",
       "    }\n",
       "\n",
       "    .dataframe thead th {\n",
       "        text-align: right;\n",
       "    }\n",
       "</style>\n",
       "<table border=\"1\" class=\"dataframe\">\n",
       "  <thead>\n",
       "    <tr style=\"text-align: right;\">\n",
       "      <th></th>\n",
       "      <th>Id</th>\n",
       "      <th>DistrictId</th>\n",
       "      <th>Rooms</th>\n",
       "      <th>Square</th>\n",
       "      <th>LifeSquare</th>\n",
       "      <th>KitchenSquare</th>\n",
       "      <th>Floor</th>\n",
       "      <th>HouseFloor</th>\n",
       "      <th>HouseYear</th>\n",
       "      <th>Ecology_1</th>\n",
       "      <th>...</th>\n",
       "      <th>Helthcare_2</th>\n",
       "      <th>Shops_1</th>\n",
       "      <th>Shops_2</th>\n",
       "      <th>Price</th>\n",
       "      <th>Rooms_outlier</th>\n",
       "      <th>HouseFloor_outlier</th>\n",
       "      <th>LifeSquare_nan</th>\n",
       "      <th>DistrictSize</th>\n",
       "      <th>IsDistrictLarge</th>\n",
       "      <th>MedPriceByDistrict</th>\n",
       "    </tr>\n",
       "  </thead>\n",
       "  <tbody>\n",
       "    <tr>\n",
       "      <th>0</th>\n",
       "      <td>11809</td>\n",
       "      <td>27</td>\n",
       "      <td>3.0</td>\n",
       "      <td>115.027311</td>\n",
       "      <td>102.027311</td>\n",
       "      <td>10.0</td>\n",
       "      <td>4</td>\n",
       "      <td>10.0</td>\n",
       "      <td>2014</td>\n",
       "      <td>0.075424</td>\n",
       "      <td>...</td>\n",
       "      <td>0</td>\n",
       "      <td>0</td>\n",
       "      <td>1</td>\n",
       "      <td>305018.871089</td>\n",
       "      <td>0</td>\n",
       "      <td>0</td>\n",
       "      <td>1</td>\n",
       "      <td>851</td>\n",
       "      <td>1</td>\n",
       "      <td>213530.788443</td>\n",
       "    </tr>\n",
       "    <tr>\n",
       "      <th>1</th>\n",
       "      <td>3013</td>\n",
       "      <td>22</td>\n",
       "      <td>1.0</td>\n",
       "      <td>39.832524</td>\n",
       "      <td>23.169223</td>\n",
       "      <td>8.0</td>\n",
       "      <td>7</td>\n",
       "      <td>8.0</td>\n",
       "      <td>1966</td>\n",
       "      <td>0.118537</td>\n",
       "      <td>...</td>\n",
       "      <td>1</td>\n",
       "      <td>0</td>\n",
       "      <td>1</td>\n",
       "      <td>177734.553407</td>\n",
       "      <td>0</td>\n",
       "      <td>0</td>\n",
       "      <td>0</td>\n",
       "      <td>78</td>\n",
       "      <td>0</td>\n",
       "      <td>146032.829834</td>\n",
       "    </tr>\n",
       "    <tr>\n",
       "      <th>2</th>\n",
       "      <td>8215</td>\n",
       "      <td>1</td>\n",
       "      <td>3.0</td>\n",
       "      <td>78.342215</td>\n",
       "      <td>47.671972</td>\n",
       "      <td>10.0</td>\n",
       "      <td>2</td>\n",
       "      <td>17.0</td>\n",
       "      <td>1988</td>\n",
       "      <td>0.025609</td>\n",
       "      <td>...</td>\n",
       "      <td>3</td>\n",
       "      <td>1</td>\n",
       "      <td>1</td>\n",
       "      <td>282078.720850</td>\n",
       "      <td>0</td>\n",
       "      <td>0</td>\n",
       "      <td>0</td>\n",
       "      <td>652</td>\n",
       "      <td>1</td>\n",
       "      <td>244005.272380</td>\n",
       "    </tr>\n",
       "    <tr>\n",
       "      <th>3</th>\n",
       "      <td>2352</td>\n",
       "      <td>1</td>\n",
       "      <td>1.0</td>\n",
       "      <td>40.409907</td>\n",
       "      <td>34.409907</td>\n",
       "      <td>3.0</td>\n",
       "      <td>10</td>\n",
       "      <td>22.0</td>\n",
       "      <td>1977</td>\n",
       "      <td>0.007122</td>\n",
       "      <td>...</td>\n",
       "      <td>0</td>\n",
       "      <td>1</td>\n",
       "      <td>1</td>\n",
       "      <td>168106.007630</td>\n",
       "      <td>0</td>\n",
       "      <td>0</td>\n",
       "      <td>1</td>\n",
       "      <td>652</td>\n",
       "      <td>1</td>\n",
       "      <td>146735.671740</td>\n",
       "    </tr>\n",
       "    <tr>\n",
       "      <th>4</th>\n",
       "      <td>13866</td>\n",
       "      <td>94</td>\n",
       "      <td>2.0</td>\n",
       "      <td>64.285067</td>\n",
       "      <td>38.562517</td>\n",
       "      <td>9.0</td>\n",
       "      <td>16</td>\n",
       "      <td>16.0</td>\n",
       "      <td>1972</td>\n",
       "      <td>0.282798</td>\n",
       "      <td>...</td>\n",
       "      <td>0</td>\n",
       "      <td>6</td>\n",
       "      <td>1</td>\n",
       "      <td>343995.102962</td>\n",
       "      <td>0</td>\n",
       "      <td>0</td>\n",
       "      <td>0</td>\n",
       "      <td>89</td>\n",
       "      <td>0</td>\n",
       "      <td>201584.441255</td>\n",
       "    </tr>\n",
       "  </tbody>\n",
       "</table>\n",
       "<p>5 rows × 25 columns</p>\n",
       "</div>"
      ],
      "text/plain": [
       "      Id DistrictId  Rooms      Square  LifeSquare  KitchenSquare  Floor  \\\n",
       "0  11809         27    3.0  115.027311  102.027311           10.0      4   \n",
       "1   3013         22    1.0   39.832524   23.169223            8.0      7   \n",
       "2   8215          1    3.0   78.342215   47.671972           10.0      2   \n",
       "3   2352          1    1.0   40.409907   34.409907            3.0     10   \n",
       "4  13866         94    2.0   64.285067   38.562517            9.0     16   \n",
       "\n",
       "   HouseFloor  HouseYear  Ecology_1  ...  Helthcare_2  Shops_1  Shops_2  \\\n",
       "0        10.0       2014   0.075424  ...            0        0        1   \n",
       "1         8.0       1966   0.118537  ...            1        0        1   \n",
       "2        17.0       1988   0.025609  ...            3        1        1   \n",
       "3        22.0       1977   0.007122  ...            0        1        1   \n",
       "4        16.0       1972   0.282798  ...            0        6        1   \n",
       "\n",
       "           Price  Rooms_outlier  HouseFloor_outlier  LifeSquare_nan  \\\n",
       "0  305018.871089              0                   0               1   \n",
       "1  177734.553407              0                   0               0   \n",
       "2  282078.720850              0                   0               0   \n",
       "3  168106.007630              0                   0               1   \n",
       "4  343995.102962              0                   0               0   \n",
       "\n",
       "   DistrictSize  IsDistrictLarge  MedPriceByDistrict  \n",
       "0           851                1       213530.788443  \n",
       "1            78                0       146032.829834  \n",
       "2           652                1       244005.272380  \n",
       "3           652                1       146735.671740  \n",
       "4            89                0       201584.441255  \n",
       "\n",
       "[5 rows x 25 columns]"
      ]
     },
     "execution_count": 49,
     "metadata": {},
     "output_type": "execute_result"
    }
   ],
   "source": [
    "train_df = train_df.merge(med_price_by_district, on=['DistrictId', 'Rooms'], how='left')\n",
    "train_df.head()"
   ]
  },
  {
   "cell_type": "markdown",
   "id": "bfa2ea1e",
   "metadata": {},
   "source": [
    "получается, что ...в 1 районе 1 комн. кв. имеет новый признак - 146к.., вот такой новый интересный полезный признак, к-ый в себе содержит целевую переменную.\n",
    "\n",
    "Так как Target encoding это очень полезные признаки, то лучше делать их побольше. А т.к. Target encoding - это признаки основаные на группировке, а группировка имеет смысл только для категорий, то если делать Target encoding на этажи и на года постройки - на вещественных признаках, то смысл кодировки потеряется. Поэтому вещ. признаки перед Target encoding переводить во что-то категориальное. Делать из вещ. признака - дискретный.\n",
    "\n",
    "Переведём этаж в категорию и переведём год в категорию. Когда переводим в категорию сначала задаём новый признак и инициализируем его, к-ый везде равен 0, далее если этаж меньше или равен 3 это будет 1-ая категория, если больше 3 но меньше 5 = 2 кат., итд. И также желаемыми годами постройки мы заполняем наши категории. Вот так создавая границы можно менять категории, так же в него нужно передать признак. Соответственно по признаку пройдёмся этими интервалами и посмотрим куда они принадлежат.. также поставим labels=False, если на выходе появиться пропуск, его можно заменить любым значением, главное, чтобы оно не пересекалось с тем, что есть. Это будет новая категория для пропущенных значений."
   ]
  },
  {
   "cell_type": "code",
   "execution_count": 50,
   "id": "5cdcc016",
   "metadata": {},
   "outputs": [],
   "source": [
    "def floor_to_cat(X):\n",
    "\n",
    "    X['floor_cat'] = 0\n",
    "\n",
    "    X.loc[X['Floor'] <= 3, 'floor_cat'] = 1  \n",
    "    X.loc[(X['Floor'] > 3) & (X['Floor'] <= 5), 'floor_cat'] = 2\n",
    "    X.loc[(X['Floor'] > 5) & (X['Floor'] <= 9), 'floor_cat'] = 3\n",
    "    X.loc[(X['Floor'] > 9) & (X['Floor'] <= 15), 'floor_cat'] = 4\n",
    "    X.loc[X['Floor'] > 15, 'floor_cat'] = 5\n",
    "\n",
    "    return X\n",
    "\n",
    "\n",
    "def floor_to_cat_pandas(X):\n",
    "    bins = [0, 3, 5, 9, 15, X['Floor'].max()]\n",
    "    X['floor_cat'] = pd.cut(X['Floor'], bins=bins, labels=False)\n",
    "    \n",
    "    X['floor_cat'].fillna(-1, inplace=True)\n",
    "    return X\n",
    "\n",
    "\n",
    "def year_to_cat(X):\n",
    "\n",
    "    X['year_cat'] = 0\n",
    "\n",
    "    X.loc[X['HouseYear'] <= 1941, 'year_cat'] = 1\n",
    "    X.loc[(X['HouseYear'] > 1941) & (X['HouseYear'] <= 1945), 'year_cat'] = 2\n",
    "    X.loc[(X['HouseYear'] > 1945) & (X['HouseYear'] <= 1980), 'year_cat'] = 3\n",
    "    X.loc[(X['HouseYear'] > 1980) & (X['HouseYear'] <= 2000), 'year_cat'] = 4\n",
    "    X.loc[(X['HouseYear'] > 2000) & (X['HouseYear'] <= 2010), 'year_cat'] = 5\n",
    "    X.loc[(X['HouseYear'] > 2010), 'year_cat'] = 6\n",
    "\n",
    "    return X\n",
    "\n",
    "\n",
    "def year_to_cat_pandas(X):\n",
    "    bins = [0, 1941, 1945, 1980, 2000, 2010, X['HouseYear'].max()]\n",
    "    X['year_cat'] = pd.cut(X['HouseYear'], bins=bins, labels=False)\n",
    "    \n",
    "    X['year_cat'].fillna(-1, inplace=True)\n",
    "    return X"
   ]
  },
  {
   "cell_type": "code",
   "execution_count": 51,
   "id": "21e66579",
   "metadata": {},
   "outputs": [
    {
     "data": {
      "text/plain": [
       "0       1\n",
       "1       2\n",
       "2       0\n",
       "3       3\n",
       "4       4\n",
       "       ..\n",
       "9995    0\n",
       "9996    3\n",
       "9997    0\n",
       "9998    0\n",
       "9999    2\n",
       "Name: Floor, Length: 10000, dtype: int64"
      ]
     },
     "execution_count": 51,
     "metadata": {},
     "output_type": "execute_result"
    }
   ],
   "source": [
    "bins = [0, 3, 5, 9, 15, train_df['Floor'].max()]\n",
    "pd.cut(train_df['Floor'], bins=bins, labels=False)"
   ]
  },
  {
   "cell_type": "markdown",
   "id": "12741367",
   "metadata": {},
   "source": [
    "И переводим из вещ.признака в категорию этаж и год."
   ]
  },
  {
   "cell_type": "code",
   "execution_count": 52,
   "id": "60f7fb3c",
   "metadata": {},
   "outputs": [
    {
     "data": {
      "text/html": [
       "<div>\n",
       "<style scoped>\n",
       "    .dataframe tbody tr th:only-of-type {\n",
       "        vertical-align: middle;\n",
       "    }\n",
       "\n",
       "    .dataframe tbody tr th {\n",
       "        vertical-align: top;\n",
       "    }\n",
       "\n",
       "    .dataframe thead th {\n",
       "        text-align: right;\n",
       "    }\n",
       "</style>\n",
       "<table border=\"1\" class=\"dataframe\">\n",
       "  <thead>\n",
       "    <tr style=\"text-align: right;\">\n",
       "      <th></th>\n",
       "      <th>Id</th>\n",
       "      <th>DistrictId</th>\n",
       "      <th>Rooms</th>\n",
       "      <th>Square</th>\n",
       "      <th>LifeSquare</th>\n",
       "      <th>KitchenSquare</th>\n",
       "      <th>Floor</th>\n",
       "      <th>HouseFloor</th>\n",
       "      <th>HouseYear</th>\n",
       "      <th>Ecology_1</th>\n",
       "      <th>...</th>\n",
       "      <th>Shops_2</th>\n",
       "      <th>Price</th>\n",
       "      <th>Rooms_outlier</th>\n",
       "      <th>HouseFloor_outlier</th>\n",
       "      <th>LifeSquare_nan</th>\n",
       "      <th>DistrictSize</th>\n",
       "      <th>IsDistrictLarge</th>\n",
       "      <th>MedPriceByDistrict</th>\n",
       "      <th>year_cat</th>\n",
       "      <th>floor_cat</th>\n",
       "    </tr>\n",
       "  </thead>\n",
       "  <tbody>\n",
       "    <tr>\n",
       "      <th>0</th>\n",
       "      <td>11809</td>\n",
       "      <td>27</td>\n",
       "      <td>3.0</td>\n",
       "      <td>115.027311</td>\n",
       "      <td>102.027311</td>\n",
       "      <td>10.0</td>\n",
       "      <td>4</td>\n",
       "      <td>10.0</td>\n",
       "      <td>2014</td>\n",
       "      <td>0.075424</td>\n",
       "      <td>...</td>\n",
       "      <td>1</td>\n",
       "      <td>305018.871089</td>\n",
       "      <td>0</td>\n",
       "      <td>0</td>\n",
       "      <td>1</td>\n",
       "      <td>851</td>\n",
       "      <td>1</td>\n",
       "      <td>213530.788443</td>\n",
       "      <td>6</td>\n",
       "      <td>2</td>\n",
       "    </tr>\n",
       "    <tr>\n",
       "      <th>1</th>\n",
       "      <td>3013</td>\n",
       "      <td>22</td>\n",
       "      <td>1.0</td>\n",
       "      <td>39.832524</td>\n",
       "      <td>23.169223</td>\n",
       "      <td>8.0</td>\n",
       "      <td>7</td>\n",
       "      <td>8.0</td>\n",
       "      <td>1966</td>\n",
       "      <td>0.118537</td>\n",
       "      <td>...</td>\n",
       "      <td>1</td>\n",
       "      <td>177734.553407</td>\n",
       "      <td>0</td>\n",
       "      <td>0</td>\n",
       "      <td>0</td>\n",
       "      <td>78</td>\n",
       "      <td>0</td>\n",
       "      <td>146032.829834</td>\n",
       "      <td>3</td>\n",
       "      <td>3</td>\n",
       "    </tr>\n",
       "    <tr>\n",
       "      <th>2</th>\n",
       "      <td>8215</td>\n",
       "      <td>1</td>\n",
       "      <td>3.0</td>\n",
       "      <td>78.342215</td>\n",
       "      <td>47.671972</td>\n",
       "      <td>10.0</td>\n",
       "      <td>2</td>\n",
       "      <td>17.0</td>\n",
       "      <td>1988</td>\n",
       "      <td>0.025609</td>\n",
       "      <td>...</td>\n",
       "      <td>1</td>\n",
       "      <td>282078.720850</td>\n",
       "      <td>0</td>\n",
       "      <td>0</td>\n",
       "      <td>0</td>\n",
       "      <td>652</td>\n",
       "      <td>1</td>\n",
       "      <td>244005.272380</td>\n",
       "      <td>4</td>\n",
       "      <td>1</td>\n",
       "    </tr>\n",
       "    <tr>\n",
       "      <th>3</th>\n",
       "      <td>2352</td>\n",
       "      <td>1</td>\n",
       "      <td>1.0</td>\n",
       "      <td>40.409907</td>\n",
       "      <td>34.409907</td>\n",
       "      <td>3.0</td>\n",
       "      <td>10</td>\n",
       "      <td>22.0</td>\n",
       "      <td>1977</td>\n",
       "      <td>0.007122</td>\n",
       "      <td>...</td>\n",
       "      <td>1</td>\n",
       "      <td>168106.007630</td>\n",
       "      <td>0</td>\n",
       "      <td>0</td>\n",
       "      <td>1</td>\n",
       "      <td>652</td>\n",
       "      <td>1</td>\n",
       "      <td>146735.671740</td>\n",
       "      <td>3</td>\n",
       "      <td>4</td>\n",
       "    </tr>\n",
       "    <tr>\n",
       "      <th>4</th>\n",
       "      <td>13866</td>\n",
       "      <td>94</td>\n",
       "      <td>2.0</td>\n",
       "      <td>64.285067</td>\n",
       "      <td>38.562517</td>\n",
       "      <td>9.0</td>\n",
       "      <td>16</td>\n",
       "      <td>16.0</td>\n",
       "      <td>1972</td>\n",
       "      <td>0.282798</td>\n",
       "      <td>...</td>\n",
       "      <td>1</td>\n",
       "      <td>343995.102962</td>\n",
       "      <td>0</td>\n",
       "      <td>0</td>\n",
       "      <td>0</td>\n",
       "      <td>89</td>\n",
       "      <td>0</td>\n",
       "      <td>201584.441255</td>\n",
       "      <td>3</td>\n",
       "      <td>5</td>\n",
       "    </tr>\n",
       "  </tbody>\n",
       "</table>\n",
       "<p>5 rows × 27 columns</p>\n",
       "</div>"
      ],
      "text/plain": [
       "      Id DistrictId  Rooms      Square  LifeSquare  KitchenSquare  Floor  \\\n",
       "0  11809         27    3.0  115.027311  102.027311           10.0      4   \n",
       "1   3013         22    1.0   39.832524   23.169223            8.0      7   \n",
       "2   8215          1    3.0   78.342215   47.671972           10.0      2   \n",
       "3   2352          1    1.0   40.409907   34.409907            3.0     10   \n",
       "4  13866         94    2.0   64.285067   38.562517            9.0     16   \n",
       "\n",
       "   HouseFloor  HouseYear  Ecology_1  ...  Shops_2          Price  \\\n",
       "0        10.0       2014   0.075424  ...        1  305018.871089   \n",
       "1         8.0       1966   0.118537  ...        1  177734.553407   \n",
       "2        17.0       1988   0.025609  ...        1  282078.720850   \n",
       "3        22.0       1977   0.007122  ...        1  168106.007630   \n",
       "4        16.0       1972   0.282798  ...        1  343995.102962   \n",
       "\n",
       "   Rooms_outlier  HouseFloor_outlier  LifeSquare_nan  DistrictSize  \\\n",
       "0              0                   0               1           851   \n",
       "1              0                   0               0            78   \n",
       "2              0                   0               0           652   \n",
       "3              0                   0               1           652   \n",
       "4              0                   0               0            89   \n",
       "\n",
       "   IsDistrictLarge  MedPriceByDistrict  year_cat  floor_cat  \n",
       "0                1       213530.788443         6          2  \n",
       "1                0       146032.829834         3          3  \n",
       "2                1       244005.272380         4          1  \n",
       "3                1       146735.671740         3          4  \n",
       "4                0       201584.441255         3          5  \n",
       "\n",
       "[5 rows x 27 columns]"
      ]
     },
     "execution_count": 52,
     "metadata": {},
     "output_type": "execute_result"
    }
   ],
   "source": [
    "train_df = year_to_cat(train_df)\n",
    "train_df = floor_to_cat(train_df)\n",
    "train_df.head()"
   ]
  },
  {
   "cell_type": "markdown",
   "id": "4647bcea",
   "metadata": {},
   "source": [
    "И из этих категорий мы можем сделать Target encoding.Сделаем группировку по году, по этажу и считаем медиану целевой переменной. Так же делаем переименование, что б наши колонки не наслаивались с одинаковыми наименованиями."
   ]
  },
  {
   "cell_type": "code",
   "execution_count": 53,
   "id": "25b1dd74",
   "metadata": {},
   "outputs": [
    {
     "data": {
      "text/html": [
       "<div>\n",
       "<style scoped>\n",
       "    .dataframe tbody tr th:only-of-type {\n",
       "        vertical-align: middle;\n",
       "    }\n",
       "\n",
       "    .dataframe tbody tr th {\n",
       "        vertical-align: top;\n",
       "    }\n",
       "\n",
       "    .dataframe thead th {\n",
       "        text-align: right;\n",
       "    }\n",
       "</style>\n",
       "<table border=\"1\" class=\"dataframe\">\n",
       "  <thead>\n",
       "    <tr style=\"text-align: right;\">\n",
       "      <th></th>\n",
       "      <th>year_cat</th>\n",
       "      <th>floor_cat</th>\n",
       "      <th>MedPriceByFloorYear</th>\n",
       "    </tr>\n",
       "  </thead>\n",
       "  <tbody>\n",
       "    <tr>\n",
       "      <th>0</th>\n",
       "      <td>1</td>\n",
       "      <td>1</td>\n",
       "      <td>380359.112959</td>\n",
       "    </tr>\n",
       "    <tr>\n",
       "      <th>1</th>\n",
       "      <td>1</td>\n",
       "      <td>2</td>\n",
       "      <td>321488.560449</td>\n",
       "    </tr>\n",
       "    <tr>\n",
       "      <th>2</th>\n",
       "      <td>1</td>\n",
       "      <td>3</td>\n",
       "      <td>429458.388683</td>\n",
       "    </tr>\n",
       "    <tr>\n",
       "      <th>3</th>\n",
       "      <td>1</td>\n",
       "      <td>4</td>\n",
       "      <td>274992.472366</td>\n",
       "    </tr>\n",
       "    <tr>\n",
       "      <th>4</th>\n",
       "      <td>2</td>\n",
       "      <td>1</td>\n",
       "      <td>467230.539057</td>\n",
       "    </tr>\n",
       "  </tbody>\n",
       "</table>\n",
       "</div>"
      ],
      "text/plain": [
       "   year_cat  floor_cat  MedPriceByFloorYear\n",
       "0         1          1        380359.112959\n",
       "1         1          2        321488.560449\n",
       "2         1          3        429458.388683\n",
       "3         1          4        274992.472366\n",
       "4         2          1        467230.539057"
      ]
     },
     "execution_count": 53,
     "metadata": {},
     "output_type": "execute_result"
    }
   ],
   "source": [
    "med_price_by_floor_year = train_df.groupby(['year_cat', 'floor_cat'], as_index=False).agg({'Price':'median'}).\\\n",
    "                                            rename(columns={'Price':'MedPriceByFloorYear'})\n",
    "med_price_by_floor_year.head()"
   ]
  },
  {
   "cell_type": "markdown",
   "id": "361bd88d",
   "metadata": {},
   "source": [
    "И вот для всех уникальных значений категории года постройки, этажа квартиры у нас посчитались медианные целевые переменные, и теперь это соединяем с нашим исходным датасетом по двум признакам - по категориям года постройки, и этажам."
   ]
  },
  {
   "cell_type": "code",
   "execution_count": 54,
   "id": "7452f22b",
   "metadata": {},
   "outputs": [
    {
     "data": {
      "text/html": [
       "<div>\n",
       "<style scoped>\n",
       "    .dataframe tbody tr th:only-of-type {\n",
       "        vertical-align: middle;\n",
       "    }\n",
       "\n",
       "    .dataframe tbody tr th {\n",
       "        vertical-align: top;\n",
       "    }\n",
       "\n",
       "    .dataframe thead th {\n",
       "        text-align: right;\n",
       "    }\n",
       "</style>\n",
       "<table border=\"1\" class=\"dataframe\">\n",
       "  <thead>\n",
       "    <tr style=\"text-align: right;\">\n",
       "      <th></th>\n",
       "      <th>Id</th>\n",
       "      <th>DistrictId</th>\n",
       "      <th>Rooms</th>\n",
       "      <th>Square</th>\n",
       "      <th>LifeSquare</th>\n",
       "      <th>KitchenSquare</th>\n",
       "      <th>Floor</th>\n",
       "      <th>HouseFloor</th>\n",
       "      <th>HouseYear</th>\n",
       "      <th>Ecology_1</th>\n",
       "      <th>...</th>\n",
       "      <th>Price</th>\n",
       "      <th>Rooms_outlier</th>\n",
       "      <th>HouseFloor_outlier</th>\n",
       "      <th>LifeSquare_nan</th>\n",
       "      <th>DistrictSize</th>\n",
       "      <th>IsDistrictLarge</th>\n",
       "      <th>MedPriceByDistrict</th>\n",
       "      <th>year_cat</th>\n",
       "      <th>floor_cat</th>\n",
       "      <th>MedPriceByFloorYear</th>\n",
       "    </tr>\n",
       "  </thead>\n",
       "  <tbody>\n",
       "    <tr>\n",
       "      <th>0</th>\n",
       "      <td>11809</td>\n",
       "      <td>27</td>\n",
       "      <td>3.0</td>\n",
       "      <td>115.027311</td>\n",
       "      <td>102.027311</td>\n",
       "      <td>10.0</td>\n",
       "      <td>4</td>\n",
       "      <td>10.0</td>\n",
       "      <td>2014</td>\n",
       "      <td>0.075424</td>\n",
       "      <td>...</td>\n",
       "      <td>305018.871089</td>\n",
       "      <td>0</td>\n",
       "      <td>0</td>\n",
       "      <td>1</td>\n",
       "      <td>851</td>\n",
       "      <td>1</td>\n",
       "      <td>213530.788443</td>\n",
       "      <td>6</td>\n",
       "      <td>2</td>\n",
       "      <td>164803.070010</td>\n",
       "    </tr>\n",
       "    <tr>\n",
       "      <th>1</th>\n",
       "      <td>3013</td>\n",
       "      <td>22</td>\n",
       "      <td>1.0</td>\n",
       "      <td>39.832524</td>\n",
       "      <td>23.169223</td>\n",
       "      <td>8.0</td>\n",
       "      <td>7</td>\n",
       "      <td>8.0</td>\n",
       "      <td>1966</td>\n",
       "      <td>0.118537</td>\n",
       "      <td>...</td>\n",
       "      <td>177734.553407</td>\n",
       "      <td>0</td>\n",
       "      <td>0</td>\n",
       "      <td>0</td>\n",
       "      <td>78</td>\n",
       "      <td>0</td>\n",
       "      <td>146032.829834</td>\n",
       "      <td>3</td>\n",
       "      <td>3</td>\n",
       "      <td>192358.129020</td>\n",
       "    </tr>\n",
       "    <tr>\n",
       "      <th>2</th>\n",
       "      <td>8215</td>\n",
       "      <td>1</td>\n",
       "      <td>3.0</td>\n",
       "      <td>78.342215</td>\n",
       "      <td>47.671972</td>\n",
       "      <td>10.0</td>\n",
       "      <td>2</td>\n",
       "      <td>17.0</td>\n",
       "      <td>1988</td>\n",
       "      <td>0.025609</td>\n",
       "      <td>...</td>\n",
       "      <td>282078.720850</td>\n",
       "      <td>0</td>\n",
       "      <td>0</td>\n",
       "      <td>0</td>\n",
       "      <td>652</td>\n",
       "      <td>1</td>\n",
       "      <td>244005.272380</td>\n",
       "      <td>4</td>\n",
       "      <td>1</td>\n",
       "      <td>205708.069184</td>\n",
       "    </tr>\n",
       "    <tr>\n",
       "      <th>3</th>\n",
       "      <td>2352</td>\n",
       "      <td>1</td>\n",
       "      <td>1.0</td>\n",
       "      <td>40.409907</td>\n",
       "      <td>34.409907</td>\n",
       "      <td>3.0</td>\n",
       "      <td>10</td>\n",
       "      <td>22.0</td>\n",
       "      <td>1977</td>\n",
       "      <td>0.007122</td>\n",
       "      <td>...</td>\n",
       "      <td>168106.007630</td>\n",
       "      <td>0</td>\n",
       "      <td>0</td>\n",
       "      <td>1</td>\n",
       "      <td>652</td>\n",
       "      <td>1</td>\n",
       "      <td>146735.671740</td>\n",
       "      <td>3</td>\n",
       "      <td>4</td>\n",
       "      <td>183536.270077</td>\n",
       "    </tr>\n",
       "    <tr>\n",
       "      <th>4</th>\n",
       "      <td>13866</td>\n",
       "      <td>94</td>\n",
       "      <td>2.0</td>\n",
       "      <td>64.285067</td>\n",
       "      <td>38.562517</td>\n",
       "      <td>9.0</td>\n",
       "      <td>16</td>\n",
       "      <td>16.0</td>\n",
       "      <td>1972</td>\n",
       "      <td>0.282798</td>\n",
       "      <td>...</td>\n",
       "      <td>343995.102962</td>\n",
       "      <td>0</td>\n",
       "      <td>0</td>\n",
       "      <td>0</td>\n",
       "      <td>89</td>\n",
       "      <td>0</td>\n",
       "      <td>201584.441255</td>\n",
       "      <td>3</td>\n",
       "      <td>5</td>\n",
       "      <td>174368.821945</td>\n",
       "    </tr>\n",
       "  </tbody>\n",
       "</table>\n",
       "<p>5 rows × 28 columns</p>\n",
       "</div>"
      ],
      "text/plain": [
       "      Id DistrictId  Rooms      Square  LifeSquare  KitchenSquare  Floor  \\\n",
       "0  11809         27    3.0  115.027311  102.027311           10.0      4   \n",
       "1   3013         22    1.0   39.832524   23.169223            8.0      7   \n",
       "2   8215          1    3.0   78.342215   47.671972           10.0      2   \n",
       "3   2352          1    1.0   40.409907   34.409907            3.0     10   \n",
       "4  13866         94    2.0   64.285067   38.562517            9.0     16   \n",
       "\n",
       "   HouseFloor  HouseYear  Ecology_1  ...          Price  Rooms_outlier  \\\n",
       "0        10.0       2014   0.075424  ...  305018.871089              0   \n",
       "1         8.0       1966   0.118537  ...  177734.553407              0   \n",
       "2        17.0       1988   0.025609  ...  282078.720850              0   \n",
       "3        22.0       1977   0.007122  ...  168106.007630              0   \n",
       "4        16.0       1972   0.282798  ...  343995.102962              0   \n",
       "\n",
       "   HouseFloor_outlier  LifeSquare_nan  DistrictSize  IsDistrictLarge  \\\n",
       "0                   0               1           851                1   \n",
       "1                   0               0            78                0   \n",
       "2                   0               0           652                1   \n",
       "3                   0               1           652                1   \n",
       "4                   0               0            89                0   \n",
       "\n",
       "   MedPriceByDistrict  year_cat  floor_cat  MedPriceByFloorYear  \n",
       "0       213530.788443         6          2        164803.070010  \n",
       "1       146032.829834         3          3        192358.129020  \n",
       "2       244005.272380         4          1        205708.069184  \n",
       "3       146735.671740         3          4        183536.270077  \n",
       "4       201584.441255         3          5        174368.821945  \n",
       "\n",
       "[5 rows x 28 columns]"
      ]
     },
     "execution_count": 54,
     "metadata": {},
     "output_type": "execute_result"
    }
   ],
   "source": [
    "train_df = train_df.merge(med_price_by_floor_year, on=['year_cat', 'floor_cat'], how='left')\n",
    "train_df.head()"
   ]
  },
  {
   "cell_type": "markdown",
   "id": "0787d64b",
   "metadata": {},
   "source": [
    "И снова всё это оформим в класс. Сначала задаём значения, к-ые вспомогательные, разные значения максимальных, максимального этажа, в целом наши датафреймы(df), к-ые будем использовать для дальнейшего соединения с исходными датасетами. Далее - метод fit, здесь всё подсчитывается, всё что необходимо, на всякий случай сделаем копию нашего датасета, что бы ничего в исходном наборе данных не поменялось. И начинаем с интилизации и с объявления нашей маски кодирования из А в 0, В в 1 для бинарных признаков. Далее здесь подсчитается df для перевода из категории района во что-то вещественное, и далее Target encoding. Если мы в fit подаём целевую переменную, значит навярняка эта выборка у нас обучающая, и значит можем посчитать Target encoding. И собственно их считаем - делаем группировку по DistrictId, по Rooms и считаем MedPriceByDistrict. И может такое случиться, что на тесте вдруг появиться новый DistrictId, и вдруг появиться новое кол-во Rooms. И получается группировка для нас у неё у нас не будет значений, тк группировка подсчитанна только на обучении, а то что придёт на тесте не знаем, не ожидаем... В этом случае после дальнейшего объединения появиться пропуск, и такое лучше заполнять той же медианой, медианой, к-ая посчиталась по новому признаку чтобы пропусков точно никаких не было. И считаем Target encoding для этажа и года постройки. Сначала берём макс. этаж на обучении, макс. год на обучении. Переводим этаж в категорию, год в категорию. Указываем наши желаемые категории до макс. этажа на обучении. И если на тесте приходит так, что этаж или год постройки больше макс. на обучении, то появиться пропуск, к-ый нужно заполнить с помощью .fillna(). Перевели из этажа в категорию и год в категорию и можно делать группировку. И на всякий случай - если вдруг появиться новая категория года или новая категория этажа, то такие пропуски лучше заполнять хотя бы медианой, к-ая подсчитана на новом признаке. Это в fit подсчитали все что только могли, все вспомогательные df, и вспомогательные словарики для перевода из строчки во что-то вещественное.\n",
    "\n",
    "И теперь в transform всё это применяем. Сначала делаем перевод из строковых признаков в бинарные, далее соединяем df с размерами районов - это кодирование из строчки из категории DistrictId во что-то вещественное. и вот тут при .merge() может возникнуть новый объект на тесте, именно новый район на тесте, и когда присоеденим новый тестовый набор со старой табличкой подготовленного df, то может появиться пропуск. Сделаем метку, что если район не новый = 0, что если район новый, и если при объединении DistrictSize появиться пропуск мы заполняем 1. Это мы пометили новые районы. И при объединениии у нас остался пропуск его можно заполнить хотя бы 5. И делаем новый признак показательный, что район большой. бинарный признак 0;1.\n",
    "\n",
    "Перед тем как добавить новый признак Target encoding, к-рый основан на этаже и году постройки, переводим этаж в кат., год в кат. И если df есть с подсчитанными Target encoding, то мы их присоединяем, а они у нас будут если в методе fit мы туда передаём целевую переменную. В fit всё подсчиталось и в этом df MedPriceByFloorYear у нас что-то хранится. Если оно есть то мы его присоединяем. Делаем DistrictId по Rooms и если вдруг появляется новое значение DistrictId, то мы уже готовы заполнить пропуски медианой, к-ую подсчитали тоже в fit. И по аналогии Target encoding для этажа и году постройки. Тоже это соединяем по двум признакам и если есть пропуски - заполняем."
   ]
  },
  {
   "cell_type": "code",
   "execution_count": 55,
   "id": "dfde4bb5",
   "metadata": {},
   "outputs": [],
   "source": [
    "class FeatureGenetator():\n",
    "    \"\"\"Генерация новых фич\"\"\"\n",
    "    \n",
    "    def __init__(self):\n",
    "        self.DistrictId_counts = None\n",
    "        self.binary_to_numbers = None\n",
    "        self.med_price_by_district = None\n",
    "        self.med_price_by_floor_year = None\n",
    "        self.house_year_max = None\n",
    "        self.floor_max = None\n",
    "        self.district_size = None\n",
    "        \n",
    "    def fit(self, X, y=None):\n",
    "        \n",
    "        X = X.copy()\n",
    "        \n",
    "        # Binary features\n",
    "        self.binary_to_numbers = {'A': 0, 'B': 1}\n",
    "        \n",
    "        # DistrictID\n",
    "        self.district_size = X['DistrictId'].value_counts().reset_index() \\\n",
    "                               .rename(columns={'index':'DistrictId', 'DistrictId':'DistrictSize'})\n",
    "                \n",
    "        # Target encoding\n",
    "        ## District, Rooms\n",
    "        df = X.copy()\n",
    "        \n",
    "        if y is not None:\n",
    "            df['Price'] = y.values\n",
    "            \n",
    "            self.med_price_by_district = df.groupby(['DistrictId', 'Rooms'], as_index=False).agg({'Price':'median'})\\\n",
    "                                            .rename(columns={'Price':'MedPriceByDistrict'})\n",
    "            \n",
    "            self.med_price_by_district_median = self.med_price_by_district['MedPriceByDistrict'].median()\n",
    "            \n",
    "        ## floor, year\n",
    "        if y is not None:\n",
    "            self.floor_max = df['Floor'].max()\n",
    "            self.house_year_max = df['HouseYear'].max()\n",
    "            df['Price'] = y.values\n",
    "            df = self.floor_to_cat(df)\n",
    "            df = self.year_to_cat(df)\n",
    "            self.med_price_by_floor_year = df.groupby(['year_cat', 'floor_cat'], as_index=False).agg({'Price':'median'}).\\\n",
    "                                            rename(columns={'Price':'MedPriceByFloorYear'})\n",
    "            self.med_price_by_floor_year_median = self.med_price_by_floor_year['MedPriceByFloorYear'].median()\n",
    "        \n",
    "\n",
    "        \n",
    "    def transform(self, X):\n",
    "        \n",
    "        # Binary features\n",
    "        X['Ecology_2'] = X['Ecology_2'].map(self.binary_to_numbers)  # self.binary_to_numbers = {'A': 0, 'B': 1}\n",
    "        X['Ecology_3'] = X['Ecology_3'].map(self.binary_to_numbers)\n",
    "        X['Shops_2'] = X['Shops_2'].map(self.binary_to_numbers)\n",
    "        \n",
    "        # DistrictId, IsDistrictLarge\n",
    "        X = X.merge(self.district_size, on='DistrictId', how='left')\n",
    "        \n",
    "        X['new_district'] = 0\n",
    "        X.loc[X['DistrictSize'].isna(), 'new_district'] = 1\n",
    "        \n",
    "        X['DistrictSize'].fillna(5, inplace=True)\n",
    "        \n",
    "        X['IsDistrictLarge'] = (X['DistrictSize'] > 100).astype(int)\n",
    "        \n",
    "        # More categorical features\n",
    "        X = self.floor_to_cat(X)  # + столбец floor_cat\n",
    "        X = self.year_to_cat(X)   # + столбец year_cat\n",
    "        \n",
    "        # Target encoding\n",
    "        if self.med_price_by_district is not None:\n",
    "            X = X.merge(self.med_price_by_district, on=['DistrictId', 'Rooms'], how='left')\n",
    "            X['MedPriceByDistrict'].fillna(self.med_price_by_district_median, inplace=True)\n",
    "            \n",
    "        if self.med_price_by_floor_year is not None:\n",
    "            X = X.merge(self.med_price_by_floor_year, on=['year_cat', 'floor_cat'], how='left')\n",
    "            X['MedPriceByFloorYear'].fillna(self.med_price_by_floor_year_median, inplace=True)\n",
    "        \n",
    "        return X\n",
    "    \n",
    "    def floor_to_cat(self, X):\n",
    "        bins = [0, 3, 5, 9, 15, self.floor_max]\n",
    "        X['floor_cat'] = pd.cut(X['Floor'], bins=bins, labels=False)\n",
    "\n",
    "        X['floor_cat'].fillna(-1, inplace=True) \n",
    "        return X\n",
    "     \n",
    "    def year_to_cat(self, X):\n",
    "        bins = [0, 1941, 1945, 1980, 2000, 2010, self.house_year_max]\n",
    "        X['year_cat'] = pd.cut(X['HouseYear'], bins=bins, labels=False)\n",
    "\n",
    "        X['year_cat'].fillna(-1, inplace=True)\n",
    "        return X"
   ]
  },
  {
   "cell_type": "markdown",
   "id": "ac417317",
   "metadata": {},
   "source": [
    "5. Отбор признаков\n",
    "\n",
    "Небольшой отбор признаков. Смотрим на чём хотим обучаться."
   ]
  },
  {
   "cell_type": "code",
   "execution_count": 56,
   "id": "45ff6b0c",
   "metadata": {},
   "outputs": [
    {
     "data": {
      "text/plain": [
       "['Id',\n",
       " 'DistrictId',\n",
       " 'Rooms',\n",
       " 'Square',\n",
       " 'LifeSquare',\n",
       " 'KitchenSquare',\n",
       " 'Floor',\n",
       " 'HouseFloor',\n",
       " 'HouseYear',\n",
       " 'Ecology_1',\n",
       " 'Ecology_2',\n",
       " 'Ecology_3',\n",
       " 'Social_1',\n",
       " 'Social_2',\n",
       " 'Social_3',\n",
       " 'Helthcare_2',\n",
       " 'Shops_1',\n",
       " 'Shops_2',\n",
       " 'Price',\n",
       " 'Rooms_outlier',\n",
       " 'HouseFloor_outlier',\n",
       " 'LifeSquare_nan',\n",
       " 'DistrictSize',\n",
       " 'IsDistrictLarge',\n",
       " 'MedPriceByDistrict',\n",
       " 'year_cat',\n",
       " 'floor_cat',\n",
       " 'MedPriceByFloorYear']"
      ]
     },
     "execution_count": 56,
     "metadata": {},
     "output_type": "execute_result"
    }
   ],
   "source": [
    "train_df.columns.tolist()"
   ]
  },
  {
   "cell_type": "markdown",
   "id": "db8c5abc",
   "metadata": {},
   "source": [
    "Обучаемсяся на всём, кроме DistrictId, потому что закодировали DistrictId через DistrictSize, кроме Id, так же на переводе из вещ.признаков в категорию по году и по этажу (year_cat,floor_cat)(признаки вспомагательные для создания Target encoding).\n",
    "\n",
    "Выделяем два списка - первый для фичей базовых(feature_names), к-ые были, и название фичей новых(new_feature_names), к-ые придумали и целевая переменная (target_name = 'Price')"
   ]
  },
  {
   "cell_type": "code",
   "execution_count": 57,
   "id": "5eaeb257",
   "metadata": {},
   "outputs": [],
   "source": [
    "feature_names = ['Rooms', 'Square', 'LifeSquare', 'KitchenSquare', 'Floor', 'HouseFloor', 'HouseYear',\n",
    "                 'Ecology_1', 'Ecology_2', 'Ecology_3', 'Social_1', 'Social_2', 'Social_3',\n",
    "                 'Helthcare_2', 'Shops_1', 'Shops_2']\n",
    "\n",
    "new_feature_names = ['HouseFloor_outlier','LifeSquare_nan',  \n",
    "                     'IsDistrictLarge',  'MedPriceByFloorYear', 'DistrictSize' ]\n",
    "\n",
    "target_name = 'Price'"
   ]
  },
  {
   "cell_type": "markdown",
   "id": "7bd8308f",
   "metadata": {},
   "source": [
    "После предсказаний на обучении и на валидации рассмотрели таблицу важности признаков и избавились от бесполезных признаков (Rooms_outlier, HouseYear_outlier, new_district) и ооочень полезных - MedPriceByDistrict."
   ]
  },
  {
   "cell_type": "markdown",
   "id": "c5c7e2d2",
   "metadata": {},
   "source": [
    "6. Разбиение на train и test\n",
    "\n",
    "Считаем заново обучающую выборку, тестовую выборку, и из обучения выделим отдельно признаки в Х и отдельно целевую переменную в Y."
   ]
  },
  {
   "cell_type": "code",
   "execution_count": 58,
   "id": "7dcf697f",
   "metadata": {},
   "outputs": [],
   "source": [
    "train_df = pd.read_csv(DATA_TRAIN_PATH)\n",
    "test_df = pd.read_csv(DATA_TEST_PATH)\n",
    "\n",
    "X = train_df.drop(columns=target_name)\n",
    "y = train_df[target_name]"
   ]
  },
  {
   "cell_type": "markdown",
   "id": "994f4fda",
   "metadata": {},
   "source": [
    "И сделаем разбиение на обучение и на валидацию. Соотношение 67 на 33, перемешаем, и зафиксируем random_state для воспроизводимости, что бы всегда разбиение было одинаковое и на обучение, и на валидацию"
   ]
  },
  {
   "cell_type": "code",
   "execution_count": 59,
   "id": "fa289ea1",
   "metadata": {},
   "outputs": [],
   "source": [
    "X_train, X_valid, y_train, y_valid = train_test_split(X, y, test_size=0.33, shuffle=True, random_state=21)"
   ]
  },
  {
   "cell_type": "markdown",
   "id": "692a5f43",
   "metadata": {},
   "source": [
    "Иицилизируем class DataPreprocessing. Обучаем его на обучающей выборке. Т.е. у нас здесь в preprocessor будут лежать все вспомогательные значения."
   ]
  },
  {
   "cell_type": "code",
   "execution_count": 60,
   "id": "9599c0dc",
   "metadata": {},
   "outputs": [
    {
     "data": {
      "text/plain": [
       "((6700, 22), (3300, 22), (5000, 22))"
      ]
     },
     "execution_count": 60,
     "metadata": {},
     "output_type": "execute_result"
    }
   ],
   "source": [
    "preprocessor = DataPreprocessing()\n",
    "preprocessor.fit(X_train)\n",
    "\n",
    "X_train = preprocessor.transform(X_train)\n",
    "X_valid = preprocessor.transform(X_valid)\n",
    "test_df = preprocessor.transform(test_df)\n",
    "\n",
    "X_train.shape, X_valid.shape, test_df.shape"
   ]
  },
  {
   "cell_type": "code",
   "execution_count": 61,
   "id": "f19940be",
   "metadata": {},
   "outputs": [
    {
     "data": {
      "text/plain": [
       "Id               8389.500000\n",
       "DistrictId         35.000000\n",
       "Rooms               2.000000\n",
       "Square             52.621164\n",
       "LifeSquare         32.679351\n",
       "KitchenSquare       6.000000\n",
       "Floor               7.000000\n",
       "HouseFloor         13.000000\n",
       "HouseYear        1977.000000\n",
       "Ecology_1           0.075779\n",
       "Social_1           25.000000\n",
       "Social_2         5285.000000\n",
       "Social_3            2.000000\n",
       "Healthcare_1      920.000000\n",
       "Helthcare_2         1.000000\n",
       "Shops_1             3.000000\n",
       "dtype: float64"
      ]
     },
     "execution_count": 61,
     "metadata": {},
     "output_type": "execute_result"
    }
   ],
   "source": [
    "preprocessor.medians"
   ]
  },
  {
   "cell_type": "code",
   "execution_count": 62,
   "id": "0ddc3978",
   "metadata": {},
   "outputs": [
    {
     "data": {
      "text/plain": [
       "12.0"
      ]
     },
     "execution_count": 62,
     "metadata": {},
     "output_type": "execute_result"
    }
   ],
   "source": [
    "preprocessor.kitchen_square_quantile"
   ]
  },
  {
   "cell_type": "markdown",
   "id": "a666e606",
   "metadata": {},
   "source": [
    "При preprocessor у нас подсчитались медианы для всех признаков (.medians). и так же у нас есть квантиль по площади кухни (.kitchen_square_quantile). Этими вспомогательными значениями мы можем пользоваться на всех последующих выборках - и на обучении, и на валидации, и на тесте.\n",
    "\n",
    "В fit посчитали всё, что могли посчитать, а теперь заполняем пропуски и на тесте. медианами, к-ые посчитали на обучении, и пользуясь квантилью площади кухни для заполнения выбросов площади кухни, тоже к-рую мы подсчитали на обучении.\n",
    "\n",
    "Когда такое преобразование сделали, стоит убедиться, что размерности датасетов совпадают. Везде по 22 признака. Одинаковое кол-во, что радует.\n",
    "\n",
    "Иницилизируем class FeatureGenetator(), обучаем его на обучающей выборке, и применяем его уже ко всем нашим выборкам."
   ]
  },
  {
   "cell_type": "code",
   "execution_count": 63,
   "id": "770f55c8",
   "metadata": {},
   "outputs": [
    {
     "data": {
      "text/plain": [
       "((6700, 29), (3300, 29), (5000, 29))"
      ]
     },
     "execution_count": 63,
     "metadata": {},
     "output_type": "execute_result"
    }
   ],
   "source": [
    "features_gen = FeatureGenetator()\n",
    "features_gen.fit(X_train, y_train)\n",
    "\n",
    "X_train = features_gen.transform(X_train)\n",
    "X_valid = features_gen.transform(X_valid)\n",
    "test_df = features_gen.transform(test_df)\n",
    "\n",
    "X_train.shape, X_valid.shape, test_df.shape"
   ]
  },
  {
   "cell_type": "markdown",
   "id": "af4e5437",
   "metadata": {},
   "source": [
    "Можем посмотреть, что лежит в ячейке class FeatureGenetator()."
   ]
  },
  {
   "cell_type": "code",
   "execution_count": 64,
   "id": "957a990f",
   "metadata": {},
   "outputs": [
    {
     "data": {
      "text/html": [
       "<div>\n",
       "<style scoped>\n",
       "    .dataframe tbody tr th:only-of-type {\n",
       "        vertical-align: middle;\n",
       "    }\n",
       "\n",
       "    .dataframe tbody tr th {\n",
       "        vertical-align: top;\n",
       "    }\n",
       "\n",
       "    .dataframe thead th {\n",
       "        text-align: right;\n",
       "    }\n",
       "</style>\n",
       "<table border=\"1\" class=\"dataframe\">\n",
       "  <thead>\n",
       "    <tr style=\"text-align: right;\">\n",
       "      <th></th>\n",
       "      <th>DistrictId</th>\n",
       "      <th>DistrictSize</th>\n",
       "    </tr>\n",
       "  </thead>\n",
       "  <tbody>\n",
       "    <tr>\n",
       "      <th>0</th>\n",
       "      <td>27</td>\n",
       "      <td>580</td>\n",
       "    </tr>\n",
       "    <tr>\n",
       "      <th>1</th>\n",
       "      <td>1</td>\n",
       "      <td>445</td>\n",
       "    </tr>\n",
       "    <tr>\n",
       "      <th>2</th>\n",
       "      <td>23</td>\n",
       "      <td>372</td>\n",
       "    </tr>\n",
       "    <tr>\n",
       "      <th>3</th>\n",
       "      <td>6</td>\n",
       "      <td>345</td>\n",
       "    </tr>\n",
       "    <tr>\n",
       "      <th>4</th>\n",
       "      <td>9</td>\n",
       "      <td>194</td>\n",
       "    </tr>\n",
       "    <tr>\n",
       "      <th>...</th>\n",
       "      <td>...</td>\n",
       "      <td>...</td>\n",
       "    </tr>\n",
       "    <tr>\n",
       "      <th>200</th>\n",
       "      <td>209</td>\n",
       "      <td>1</td>\n",
       "    </tr>\n",
       "    <tr>\n",
       "      <th>201</th>\n",
       "      <td>186</td>\n",
       "      <td>1</td>\n",
       "    </tr>\n",
       "    <tr>\n",
       "      <th>202</th>\n",
       "      <td>207</td>\n",
       "      <td>1</td>\n",
       "    </tr>\n",
       "    <tr>\n",
       "      <th>203</th>\n",
       "      <td>199</td>\n",
       "      <td>1</td>\n",
       "    </tr>\n",
       "    <tr>\n",
       "      <th>204</th>\n",
       "      <td>174</td>\n",
       "      <td>1</td>\n",
       "    </tr>\n",
       "  </tbody>\n",
       "</table>\n",
       "<p>205 rows × 2 columns</p>\n",
       "</div>"
      ],
      "text/plain": [
       "     DistrictId  DistrictSize\n",
       "0            27           580\n",
       "1             1           445\n",
       "2            23           372\n",
       "3             6           345\n",
       "4             9           194\n",
       "..          ...           ...\n",
       "200         209             1\n",
       "201         186             1\n",
       "202         207             1\n",
       "203         199             1\n",
       "204         174             1\n",
       "\n",
       "[205 rows x 2 columns]"
      ]
     },
     "execution_count": 64,
     "metadata": {},
     "output_type": "execute_result"
    }
   ],
   "source": [
    "features_gen.district_size"
   ]
  },
  {
   "cell_type": "markdown",
   "id": "1718137e",
   "metadata": {},
   "source": [
    "Этой вспомогательной таблицей пользуемся и на обучении, и на валидации, и на тесте. Но при этом её подсчитали только на обучающенй выборкке.Взяли объекты только с обучения, посмотрели на уник. объекты DistrictId, и сделали value_counts() по этим объектам. И теперь этой табличкой будем пользоваться на всех последующих выборках. Так же здесь есть и Target encoding. Медианая целевая переменная зависимости от района и кол-ва комнат. Тоже есть заготовка - табличка подсчитанная только на обучающей выборке. Мы взяли все уникальные DistrictId, уник. Rooms и посчитали группировку и у них целевую переменную взяли, и теперь данную табличку присоеденяем и к обуч., и к валидации, и к тесту."
   ]
  },
  {
   "cell_type": "markdown",
   "id": "82edbf6c",
   "metadata": {},
   "source": [
    "На всех трёх выборках выбираем признаки на к-ых хотим обучаться."
   ]
  },
  {
   "cell_type": "code",
   "execution_count": 65,
   "id": "a28a3316",
   "metadata": {},
   "outputs": [],
   "source": [
    "X_train = X_train[feature_names + new_feature_names]\n",
    "X_valid = X_valid[feature_names + new_feature_names]\n",
    "test_df = test_df[feature_names + new_feature_names]"
   ]
  },
  {
   "cell_type": "markdown",
   "id": "0afabfeb",
   "metadata": {},
   "source": [
    "На всякий случай смотрим, что пропущенных значений нет."
   ]
  },
  {
   "cell_type": "code",
   "execution_count": 66,
   "id": "b147f725",
   "metadata": {},
   "outputs": [
    {
     "data": {
      "text/plain": [
       "(0, 0, 0)"
      ]
     },
     "execution_count": 66,
     "metadata": {},
     "output_type": "execute_result"
    }
   ],
   "source": [
    "X_train.isna().sum().sum(), X_valid.isna().sum().sum(), test_df.isna().sum().sum()"
   ]
  },
  {
   "cell_type": "markdown",
   "id": "b36f8537",
   "metadata": {},
   "source": [
    "Данные подготовлены. Признаки сгернерированы. Можно обучать модель."
   ]
  },
  {
   "cell_type": "markdown",
   "id": "a088b8cb",
   "metadata": {},
   "source": [
    "7. Построение модели"
   ]
  },
  {
   "cell_type": "markdown",
   "id": "d991e6fc",
   "metadata": {},
   "source": [
    "Здесь зафиксирован random_state=42, среднеквадратичная ошибка (mse), эмпирически высчиталось оптимально - число деревьев = 500, макс. глубина деревьев = 10, ограничение на число объектов в листьях = 4. Обучим модель на выборке для обучения."
   ]
  },
  {
   "cell_type": "code",
   "execution_count": 67,
   "id": "709247b9",
   "metadata": {},
   "outputs": [
    {
     "data": {
      "text/plain": [
       "RandomForestRegressor(criterion='mse', max_depth=10, min_samples_leaf=4,\n",
       "                      n_estimators=500, random_state=42)"
      ]
     },
     "execution_count": 67,
     "metadata": {},
     "output_type": "execute_result"
    }
   ],
   "source": [
    "rf_model = RandomForestRegressor(criterion='mse',\n",
    "                                 max_depth=10,\n",
    "                                 min_samples_leaf=4,\n",
    "                                 random_state=42,\n",
    "                                 n_estimators=500\n",
    "                                 )\n",
    "rf_model.fit(X_train, y_train)"
   ]
  },
  {
   "cell_type": "markdown",
   "id": "0721d6b9",
   "metadata": {},
   "source": [
    "Сделаем предсказание на обучении и на валидации."
   ]
  },
  {
   "cell_type": "code",
   "execution_count": 68,
   "id": "6bb8720f",
   "metadata": {},
   "outputs": [
    {
     "name": "stdout",
     "output_type": "stream",
     "text": [
      "Train R2:\t0.837\n",
      "Test R2:\t0.742\n"
     ]
    },
    {
     "data": {
      "image/png": "[encoded data removed]",
      "text/plain": [
       "<Figure size 1800x1000 with 2 Axes>"
      ]
     },
     "metadata": {},
     "output_type": "display_data"
    }
   ],
   "source": [
    "y_train_preds = rf_model.predict(X_train)\n",
    "y_test_preds = rf_model.predict(X_valid)\n",
    "\n",
    "evaluate_preds(y_train, y_train_preds, y_valid, y_test_preds)"
   ]
  },
  {
   "cell_type": "markdown",
   "id": "17aafb7c",
   "metadata": {},
   "source": [
    "Смотрим, что получается по метрикам. Train R2:0.838 - Test R2:0.74. == 0.09%. Неплохой результат, нужно было бы ещё поработать с признаками."
   ]
  },
  {
   "cell_type": "code",
   "execution_count": 69,
   "id": "56a714bb",
   "metadata": {},
   "outputs": [
    {
     "data": {
      "text/plain": [
       "array([0.72203394, 0.69669479, 0.72554321])"
      ]
     },
     "execution_count": 69,
     "metadata": {},
     "output_type": "execute_result"
    }
   ],
   "source": [
    "cv_score = cross_val_score(rf_model, X_train, y_train, scoring='r2', cv=KFold(n_splits=3, shuffle=True, random_state=42))\n",
    "cv_score"
   ]
  },
  {
   "cell_type": "code",
   "execution_count": 70,
   "id": "891c9cfd",
   "metadata": {},
   "outputs": [
    {
     "data": {
      "text/plain": [
       "0.7147573148618883"
      ]
     },
     "execution_count": 70,
     "metadata": {},
     "output_type": "execute_result"
    }
   ],
   "source": [
    "cv_score.mean()"
   ]
  },
  {
   "cell_type": "markdown",
   "id": "60315b72",
   "metadata": {},
   "source": [
    "На метрике видно - делая кросс-валидацию модели на обуч. выборке, по методу Р2, и кросс-валидацию на три хода, получаем три цифры, и их среднее -0.71. Эта цифра отличается от двух предыдущих.(0.838 и 0.74). В идеале, когда всё три цифры - метрика на обучении,на тесте, и на кросс-валидации стремяться к одному значению, это значит, что переобучение минимальное."
   ]
  },
  {
   "cell_type": "code",
   "execution_count": 71,
   "id": "5245c702",
   "metadata": {},
   "outputs": [
    {
     "data": {
      "text/html": [
       "<div>\n",
       "<style scoped>\n",
       "    .dataframe tbody tr th:only-of-type {\n",
       "        vertical-align: middle;\n",
       "    }\n",
       "\n",
       "    .dataframe tbody tr th {\n",
       "        vertical-align: top;\n",
       "    }\n",
       "\n",
       "    .dataframe thead th {\n",
       "        text-align: right;\n",
       "    }\n",
       "</style>\n",
       "<table border=\"1\" class=\"dataframe\">\n",
       "  <thead>\n",
       "    <tr style=\"text-align: right;\">\n",
       "      <th></th>\n",
       "      <th>feature_name</th>\n",
       "      <th>importance</th>\n",
       "    </tr>\n",
       "  </thead>\n",
       "  <tbody>\n",
       "    <tr>\n",
       "      <th>1</th>\n",
       "      <td>Square</td>\n",
       "      <td>0.477444</td>\n",
       "    </tr>\n",
       "    <tr>\n",
       "      <th>20</th>\n",
       "      <td>DistrictSize</td>\n",
       "      <td>0.250569</td>\n",
       "    </tr>\n",
       "    <tr>\n",
       "      <th>12</th>\n",
       "      <td>Social_3</td>\n",
       "      <td>0.057135</td>\n",
       "    </tr>\n",
       "    <tr>\n",
       "      <th>7</th>\n",
       "      <td>Ecology_1</td>\n",
       "      <td>0.031800</td>\n",
       "    </tr>\n",
       "    <tr>\n",
       "      <th>11</th>\n",
       "      <td>Social_2</td>\n",
       "      <td>0.028159</td>\n",
       "    </tr>\n",
       "    <tr>\n",
       "      <th>0</th>\n",
       "      <td>Rooms</td>\n",
       "      <td>0.023991</td>\n",
       "    </tr>\n",
       "    <tr>\n",
       "      <th>10</th>\n",
       "      <td>Social_1</td>\n",
       "      <td>0.022595</td>\n",
       "    </tr>\n",
       "    <tr>\n",
       "      <th>2</th>\n",
       "      <td>LifeSquare</td>\n",
       "      <td>0.021140</td>\n",
       "    </tr>\n",
       "    <tr>\n",
       "      <th>19</th>\n",
       "      <td>MedPriceByFloorYear</td>\n",
       "      <td>0.019325</td>\n",
       "    </tr>\n",
       "    <tr>\n",
       "      <th>6</th>\n",
       "      <td>HouseYear</td>\n",
       "      <td>0.016152</td>\n",
       "    </tr>\n",
       "    <tr>\n",
       "      <th>5</th>\n",
       "      <td>HouseFloor</td>\n",
       "      <td>0.012522</td>\n",
       "    </tr>\n",
       "    <tr>\n",
       "      <th>4</th>\n",
       "      <td>Floor</td>\n",
       "      <td>0.010602</td>\n",
       "    </tr>\n",
       "    <tr>\n",
       "      <th>14</th>\n",
       "      <td>Shops_1</td>\n",
       "      <td>0.010385</td>\n",
       "    </tr>\n",
       "    <tr>\n",
       "      <th>3</th>\n",
       "      <td>KitchenSquare</td>\n",
       "      <td>0.009709</td>\n",
       "    </tr>\n",
       "    <tr>\n",
       "      <th>13</th>\n",
       "      <td>Helthcare_2</td>\n",
       "      <td>0.005318</td>\n",
       "    </tr>\n",
       "    <tr>\n",
       "      <th>16</th>\n",
       "      <td>HouseFloor_outlier</td>\n",
       "      <td>0.001036</td>\n",
       "    </tr>\n",
       "    <tr>\n",
       "      <th>15</th>\n",
       "      <td>Shops_2</td>\n",
       "      <td>0.001028</td>\n",
       "    </tr>\n",
       "    <tr>\n",
       "      <th>17</th>\n",
       "      <td>LifeSquare_nan</td>\n",
       "      <td>0.000417</td>\n",
       "    </tr>\n",
       "    <tr>\n",
       "      <th>18</th>\n",
       "      <td>IsDistrictLarge</td>\n",
       "      <td>0.000301</td>\n",
       "    </tr>\n",
       "    <tr>\n",
       "      <th>9</th>\n",
       "      <td>Ecology_3</td>\n",
       "      <td>0.000211</td>\n",
       "    </tr>\n",
       "    <tr>\n",
       "      <th>8</th>\n",
       "      <td>Ecology_2</td>\n",
       "      <td>0.000163</td>\n",
       "    </tr>\n",
       "  </tbody>\n",
       "</table>\n",
       "</div>"
      ],
      "text/plain": [
       "           feature_name  importance\n",
       "1                Square    0.477444\n",
       "20         DistrictSize    0.250569\n",
       "12             Social_3    0.057135\n",
       "7             Ecology_1    0.031800\n",
       "11             Social_2    0.028159\n",
       "0                 Rooms    0.023991\n",
       "10             Social_1    0.022595\n",
       "2            LifeSquare    0.021140\n",
       "19  MedPriceByFloorYear    0.019325\n",
       "6             HouseYear    0.016152\n",
       "5            HouseFloor    0.012522\n",
       "4                 Floor    0.010602\n",
       "14              Shops_1    0.010385\n",
       "3         KitchenSquare    0.009709\n",
       "13          Helthcare_2    0.005318\n",
       "16   HouseFloor_outlier    0.001036\n",
       "15              Shops_2    0.001028\n",
       "17       LifeSquare_nan    0.000417\n",
       "18      IsDistrictLarge    0.000301\n",
       "9             Ecology_3    0.000211\n",
       "8             Ecology_2    0.000163"
      ]
     },
     "execution_count": 71,
     "metadata": {},
     "output_type": "execute_result"
    }
   ],
   "source": [
    "feature_importances = pd.DataFrame(zip(X_train.columns, rf_model.feature_importances_), \n",
    "                                   columns=['feature_name', 'importance'])\n",
    "\n",
    "feature_importances.sort_values(by='importance', ascending=False)"
   ]
  },
  {
   "cell_type": "markdown",
   "id": "321d17d5",
   "metadata": {},
   "source": [
    "8. Прогнозирование на тестовом датасете"
   ]
  },
  {
   "cell_type": "code",
   "execution_count": 72,
   "id": "e04c79a7",
   "metadata": {},
   "outputs": [
    {
     "data": {
      "text/plain": [
       "(5000, 21)"
      ]
     },
     "execution_count": 72,
     "metadata": {},
     "output_type": "execute_result"
    }
   ],
   "source": [
    "test_df.shape"
   ]
  },
  {
   "cell_type": "code",
   "execution_count": 73,
   "id": "8078d1e5",
   "metadata": {},
   "outputs": [
    {
     "data": {
      "text/html": [
       "<div>\n",
       "<style scoped>\n",
       "    .dataframe tbody tr th:only-of-type {\n",
       "        vertical-align: middle;\n",
       "    }\n",
       "\n",
       "    .dataframe tbody tr th {\n",
       "        vertical-align: top;\n",
       "    }\n",
       "\n",
       "    .dataframe thead th {\n",
       "        text-align: right;\n",
       "    }\n",
       "</style>\n",
       "<table border=\"1\" class=\"dataframe\">\n",
       "  <thead>\n",
       "    <tr style=\"text-align: right;\">\n",
       "      <th></th>\n",
       "      <th>Rooms</th>\n",
       "      <th>Square</th>\n",
       "      <th>LifeSquare</th>\n",
       "      <th>KitchenSquare</th>\n",
       "      <th>Floor</th>\n",
       "      <th>HouseFloor</th>\n",
       "      <th>HouseYear</th>\n",
       "      <th>Ecology_1</th>\n",
       "      <th>Ecology_2</th>\n",
       "      <th>Ecology_3</th>\n",
       "      <th>...</th>\n",
       "      <th>Social_2</th>\n",
       "      <th>Social_3</th>\n",
       "      <th>Helthcare_2</th>\n",
       "      <th>Shops_1</th>\n",
       "      <th>Shops_2</th>\n",
       "      <th>HouseFloor_outlier</th>\n",
       "      <th>LifeSquare_nan</th>\n",
       "      <th>IsDistrictLarge</th>\n",
       "      <th>MedPriceByFloorYear</th>\n",
       "      <th>DistrictSize</th>\n",
       "    </tr>\n",
       "  </thead>\n",
       "  <tbody>\n",
       "    <tr>\n",
       "      <th>0</th>\n",
       "      <td>1.0</td>\n",
       "      <td>36.847630</td>\n",
       "      <td>19.094182</td>\n",
       "      <td>5.0</td>\n",
       "      <td>5</td>\n",
       "      <td>9.0</td>\n",
       "      <td>1970</td>\n",
       "      <td>0.036122</td>\n",
       "      <td>1</td>\n",
       "      <td>1</td>\n",
       "      <td>...</td>\n",
       "      <td>4378</td>\n",
       "      <td>0</td>\n",
       "      <td>1</td>\n",
       "      <td>1</td>\n",
       "      <td>1</td>\n",
       "      <td>0</td>\n",
       "      <td>0</td>\n",
       "      <td>0</td>\n",
       "      <td>188612.297808</td>\n",
       "      <td>76.0</td>\n",
       "    </tr>\n",
       "    <tr>\n",
       "      <th>1</th>\n",
       "      <td>1.0</td>\n",
       "      <td>42.493907</td>\n",
       "      <td>42.568133</td>\n",
       "      <td>10.0</td>\n",
       "      <td>7</td>\n",
       "      <td>17.0</td>\n",
       "      <td>2017</td>\n",
       "      <td>0.072158</td>\n",
       "      <td>1</td>\n",
       "      <td>1</td>\n",
       "      <td>...</td>\n",
       "      <td>629</td>\n",
       "      <td>1</td>\n",
       "      <td>0</td>\n",
       "      <td>0</td>\n",
       "      <td>0</td>\n",
       "      <td>0</td>\n",
       "      <td>0</td>\n",
       "      <td>1</td>\n",
       "      <td>180099.659745</td>\n",
       "      <td>164.0</td>\n",
       "    </tr>\n",
       "    <tr>\n",
       "      <th>2</th>\n",
       "      <td>2.0</td>\n",
       "      <td>59.463678</td>\n",
       "      <td>47.463678</td>\n",
       "      <td>9.0</td>\n",
       "      <td>19</td>\n",
       "      <td>19.0</td>\n",
       "      <td>1977</td>\n",
       "      <td>0.211401</td>\n",
       "      <td>1</td>\n",
       "      <td>1</td>\n",
       "      <td>...</td>\n",
       "      <td>1892</td>\n",
       "      <td>0</td>\n",
       "      <td>0</td>\n",
       "      <td>1</td>\n",
       "      <td>1</td>\n",
       "      <td>0</td>\n",
       "      <td>1</td>\n",
       "      <td>1</td>\n",
       "      <td>171621.224416</td>\n",
       "      <td>580.0</td>\n",
       "    </tr>\n",
       "    <tr>\n",
       "      <th>3</th>\n",
       "      <td>3.0</td>\n",
       "      <td>49.646030</td>\n",
       "      <td>33.893825</td>\n",
       "      <td>6.0</td>\n",
       "      <td>2</td>\n",
       "      <td>2.0</td>\n",
       "      <td>1965</td>\n",
       "      <td>0.014073</td>\n",
       "      <td>1</td>\n",
       "      <td>1</td>\n",
       "      <td>...</td>\n",
       "      <td>475</td>\n",
       "      <td>0</td>\n",
       "      <td>0</td>\n",
       "      <td>0</td>\n",
       "      <td>1</td>\n",
       "      <td>0</td>\n",
       "      <td>0</td>\n",
       "      <td>1</td>\n",
       "      <td>180344.164153</td>\n",
       "      <td>372.0</td>\n",
       "    </tr>\n",
       "    <tr>\n",
       "      <th>4</th>\n",
       "      <td>1.0</td>\n",
       "      <td>53.837056</td>\n",
       "      <td>47.837056</td>\n",
       "      <td>3.0</td>\n",
       "      <td>8</td>\n",
       "      <td>17.0</td>\n",
       "      <td>1977</td>\n",
       "      <td>0.309479</td>\n",
       "      <td>1</td>\n",
       "      <td>1</td>\n",
       "      <td>...</td>\n",
       "      <td>7715</td>\n",
       "      <td>4</td>\n",
       "      <td>0</td>\n",
       "      <td>6</td>\n",
       "      <td>1</td>\n",
       "      <td>0</td>\n",
       "      <td>1</td>\n",
       "      <td>0</td>\n",
       "      <td>192048.442631</td>\n",
       "      <td>65.0</td>\n",
       "    </tr>\n",
       "    <tr>\n",
       "      <th>...</th>\n",
       "      <td>...</td>\n",
       "      <td>...</td>\n",
       "      <td>...</td>\n",
       "      <td>...</td>\n",
       "      <td>...</td>\n",
       "      <td>...</td>\n",
       "      <td>...</td>\n",
       "      <td>...</td>\n",
       "      <td>...</td>\n",
       "      <td>...</td>\n",
       "      <td>...</td>\n",
       "      <td>...</td>\n",
       "      <td>...</td>\n",
       "      <td>...</td>\n",
       "      <td>...</td>\n",
       "      <td>...</td>\n",
       "      <td>...</td>\n",
       "      <td>...</td>\n",
       "      <td>...</td>\n",
       "      <td>...</td>\n",
       "      <td>...</td>\n",
       "    </tr>\n",
       "    <tr>\n",
       "      <th>4995</th>\n",
       "      <td>2.0</td>\n",
       "      <td>43.177521</td>\n",
       "      <td>30.339945</td>\n",
       "      <td>5.0</td>\n",
       "      <td>2</td>\n",
       "      <td>5.0</td>\n",
       "      <td>1962</td>\n",
       "      <td>0.069660</td>\n",
       "      <td>1</td>\n",
       "      <td>1</td>\n",
       "      <td>...</td>\n",
       "      <td>6119</td>\n",
       "      <td>4</td>\n",
       "      <td>1</td>\n",
       "      <td>2</td>\n",
       "      <td>1</td>\n",
       "      <td>1</td>\n",
       "      <td>0</td>\n",
       "      <td>0</td>\n",
       "      <td>180344.164153</td>\n",
       "      <td>56.0</td>\n",
       "    </tr>\n",
       "    <tr>\n",
       "      <th>4996</th>\n",
       "      <td>3.0</td>\n",
       "      <td>93.698122</td>\n",
       "      <td>94.521465</td>\n",
       "      <td>10.0</td>\n",
       "      <td>21</td>\n",
       "      <td>27.0</td>\n",
       "      <td>2018</td>\n",
       "      <td>0.060753</td>\n",
       "      <td>1</td>\n",
       "      <td>1</td>\n",
       "      <td>...</td>\n",
       "      <td>2787</td>\n",
       "      <td>2</td>\n",
       "      <td>0</td>\n",
       "      <td>7</td>\n",
       "      <td>1</td>\n",
       "      <td>0</td>\n",
       "      <td>0</td>\n",
       "      <td>0</td>\n",
       "      <td>199166.198392</td>\n",
       "      <td>26.0</td>\n",
       "    </tr>\n",
       "    <tr>\n",
       "      <th>4997</th>\n",
       "      <td>1.0</td>\n",
       "      <td>33.656723</td>\n",
       "      <td>19.003259</td>\n",
       "      <td>5.0</td>\n",
       "      <td>2</td>\n",
       "      <td>5.0</td>\n",
       "      <td>1966</td>\n",
       "      <td>0.038693</td>\n",
       "      <td>1</td>\n",
       "      <td>1</td>\n",
       "      <td>...</td>\n",
       "      <td>6533</td>\n",
       "      <td>1</td>\n",
       "      <td>2</td>\n",
       "      <td>5</td>\n",
       "      <td>1</td>\n",
       "      <td>0</td>\n",
       "      <td>0</td>\n",
       "      <td>0</td>\n",
       "      <td>180344.164153</td>\n",
       "      <td>54.0</td>\n",
       "    </tr>\n",
       "    <tr>\n",
       "      <th>4998</th>\n",
       "      <td>1.0</td>\n",
       "      <td>38.635155</td>\n",
       "      <td>20.976257</td>\n",
       "      <td>9.0</td>\n",
       "      <td>8</td>\n",
       "      <td>14.0</td>\n",
       "      <td>1970</td>\n",
       "      <td>0.089040</td>\n",
       "      <td>1</td>\n",
       "      <td>1</td>\n",
       "      <td>...</td>\n",
       "      <td>7976</td>\n",
       "      <td>5</td>\n",
       "      <td>0</td>\n",
       "      <td>11</td>\n",
       "      <td>1</td>\n",
       "      <td>0</td>\n",
       "      <td>0</td>\n",
       "      <td>0</td>\n",
       "      <td>192048.442631</td>\n",
       "      <td>40.0</td>\n",
       "    </tr>\n",
       "    <tr>\n",
       "      <th>4999</th>\n",
       "      <td>2.0</td>\n",
       "      <td>67.122742</td>\n",
       "      <td>33.944344</td>\n",
       "      <td>6.0</td>\n",
       "      <td>9</td>\n",
       "      <td>17.0</td>\n",
       "      <td>2009</td>\n",
       "      <td>0.194489</td>\n",
       "      <td>1</td>\n",
       "      <td>1</td>\n",
       "      <td>...</td>\n",
       "      <td>8004</td>\n",
       "      <td>3</td>\n",
       "      <td>3</td>\n",
       "      <td>5</td>\n",
       "      <td>1</td>\n",
       "      <td>0</td>\n",
       "      <td>0</td>\n",
       "      <td>1</td>\n",
       "      <td>228211.250895</td>\n",
       "      <td>117.0</td>\n",
       "    </tr>\n",
       "  </tbody>\n",
       "</table>\n",
       "<p>5000 rows × 21 columns</p>\n",
       "</div>"
      ],
      "text/plain": [
       "      Rooms     Square  LifeSquare  KitchenSquare  Floor  HouseFloor  \\\n",
       "0       1.0  36.847630   19.094182            5.0      5         9.0   \n",
       "1       1.0  42.493907   42.568133           10.0      7        17.0   \n",
       "2       2.0  59.463678   47.463678            9.0     19        19.0   \n",
       "3       3.0  49.646030   33.893825            6.0      2         2.0   \n",
       "4       1.0  53.837056   47.837056            3.0      8        17.0   \n",
       "...     ...        ...         ...            ...    ...         ...   \n",
       "4995    2.0  43.177521   30.339945            5.0      2         5.0   \n",
       "4996    3.0  93.698122   94.521465           10.0     21        27.0   \n",
       "4997    1.0  33.656723   19.003259            5.0      2         5.0   \n",
       "4998    1.0  38.635155   20.976257            9.0      8        14.0   \n",
       "4999    2.0  67.122742   33.944344            6.0      9        17.0   \n",
       "\n",
       "      HouseYear  Ecology_1  Ecology_2  Ecology_3  ...  Social_2  Social_3  \\\n",
       "0          1970   0.036122          1          1  ...      4378         0   \n",
       "1          2017   0.072158          1          1  ...       629         1   \n",
       "2          1977   0.211401          1          1  ...      1892         0   \n",
       "3          1965   0.014073          1          1  ...       475         0   \n",
       "4          1977   0.309479          1          1  ...      7715         4   \n",
       "...         ...        ...        ...        ...  ...       ...       ...   \n",
       "4995       1962   0.069660          1          1  ...      6119         4   \n",
       "4996       2018   0.060753          1          1  ...      2787         2   \n",
       "4997       1966   0.038693          1          1  ...      6533         1   \n",
       "4998       1970   0.089040          1          1  ...      7976         5   \n",
       "4999       2009   0.194489          1          1  ...      8004         3   \n",
       "\n",
       "      Helthcare_2  Shops_1  Shops_2  HouseFloor_outlier  LifeSquare_nan  \\\n",
       "0               1        1        1                   0               0   \n",
       "1               0        0        0                   0               0   \n",
       "2               0        1        1                   0               1   \n",
       "3               0        0        1                   0               0   \n",
       "4               0        6        1                   0               1   \n",
       "...           ...      ...      ...                 ...             ...   \n",
       "4995            1        2        1                   1               0   \n",
       "4996            0        7        1                   0               0   \n",
       "4997            2        5        1                   0               0   \n",
       "4998            0       11        1                   0               0   \n",
       "4999            3        5        1                   0               0   \n",
       "\n",
       "      IsDistrictLarge  MedPriceByFloorYear  DistrictSize  \n",
       "0                   0        188612.297808          76.0  \n",
       "1                   1        180099.659745         164.0  \n",
       "2                   1        171621.224416         580.0  \n",
       "3                   1        180344.164153         372.0  \n",
       "4                   0        192048.442631          65.0  \n",
       "...               ...                  ...           ...  \n",
       "4995                0        180344.164153          56.0  \n",
       "4996                0        199166.198392          26.0  \n",
       "4997                0        180344.164153          54.0  \n",
       "4998                0        192048.442631          40.0  \n",
       "4999                1        228211.250895         117.0  \n",
       "\n",
       "[5000 rows x 21 columns]"
      ]
     },
     "execution_count": 73,
     "metadata": {},
     "output_type": "execute_result"
    }
   ],
   "source": [
    "test_df"
   ]
  },
  {
   "cell_type": "code",
   "execution_count": 74,
   "id": "1197f0b0",
   "metadata": {},
   "outputs": [
    {
     "data": {
      "text/html": [
       "<div>\n",
       "<style scoped>\n",
       "    .dataframe tbody tr th:only-of-type {\n",
       "        vertical-align: middle;\n",
       "    }\n",
       "\n",
       "    .dataframe tbody tr th {\n",
       "        vertical-align: top;\n",
       "    }\n",
       "\n",
       "    .dataframe thead th {\n",
       "        text-align: right;\n",
       "    }\n",
       "</style>\n",
       "<table border=\"1\" class=\"dataframe\">\n",
       "  <thead>\n",
       "    <tr style=\"text-align: right;\">\n",
       "      <th></th>\n",
       "      <th>Id</th>\n",
       "      <th>Price</th>\n",
       "    </tr>\n",
       "  </thead>\n",
       "  <tbody>\n",
       "    <tr>\n",
       "      <th>0</th>\n",
       "      <td>4567</td>\n",
       "      <td>200000.0</td>\n",
       "    </tr>\n",
       "    <tr>\n",
       "      <th>1</th>\n",
       "      <td>5925</td>\n",
       "      <td>200000.0</td>\n",
       "    </tr>\n",
       "    <tr>\n",
       "      <th>2</th>\n",
       "      <td>960</td>\n",
       "      <td>200000.0</td>\n",
       "    </tr>\n",
       "    <tr>\n",
       "      <th>3</th>\n",
       "      <td>3848</td>\n",
       "      <td>200000.0</td>\n",
       "    </tr>\n",
       "    <tr>\n",
       "      <th>4</th>\n",
       "      <td>746</td>\n",
       "      <td>200000.0</td>\n",
       "    </tr>\n",
       "  </tbody>\n",
       "</table>\n",
       "</div>"
      ],
      "text/plain": [
       "     Id     Price\n",
       "0  4567  200000.0\n",
       "1  5925  200000.0\n",
       "2   960  200000.0\n",
       "3  3848  200000.0\n",
       "4   746  200000.0"
      ]
     },
     "execution_count": 74,
     "metadata": {},
     "output_type": "execute_result"
    }
   ],
   "source": [
    "submit = pd.read_csv('sample_submission.csv')\n",
    "submit.head()"
   ]
  },
  {
   "cell_type": "code",
   "execution_count": 75,
   "id": "7a957fc3",
   "metadata": {},
   "outputs": [
    {
     "data": {
      "text/plain": [
       "array([156035.45112788, 128460.39785283, 148589.42748562, ...,\n",
       "       147693.5743218 , 195237.56838778, 266256.2485552 ])"
      ]
     },
     "execution_count": 75,
     "metadata": {},
     "output_type": "execute_result"
    }
   ],
   "source": [
    "predictions = rf_model.predict(test_df)\n",
    "predictions"
   ]
  },
  {
   "cell_type": "code",
   "execution_count": 76,
   "id": "d232d65e",
   "metadata": {},
   "outputs": [
    {
     "data": {
      "text/html": [
       "<div>\n",
       "<style scoped>\n",
       "    .dataframe tbody tr th:only-of-type {\n",
       "        vertical-align: middle;\n",
       "    }\n",
       "\n",
       "    .dataframe tbody tr th {\n",
       "        vertical-align: top;\n",
       "    }\n",
       "\n",
       "    .dataframe thead th {\n",
       "        text-align: right;\n",
       "    }\n",
       "</style>\n",
       "<table border=\"1\" class=\"dataframe\">\n",
       "  <thead>\n",
       "    <tr style=\"text-align: right;\">\n",
       "      <th></th>\n",
       "      <th>Id</th>\n",
       "      <th>Price</th>\n",
       "    </tr>\n",
       "  </thead>\n",
       "  <tbody>\n",
       "    <tr>\n",
       "      <th>0</th>\n",
       "      <td>4567</td>\n",
       "      <td>156035.451128</td>\n",
       "    </tr>\n",
       "    <tr>\n",
       "      <th>1</th>\n",
       "      <td>5925</td>\n",
       "      <td>128460.397853</td>\n",
       "    </tr>\n",
       "    <tr>\n",
       "      <th>2</th>\n",
       "      <td>960</td>\n",
       "      <td>148589.427486</td>\n",
       "    </tr>\n",
       "    <tr>\n",
       "      <th>3</th>\n",
       "      <td>3848</td>\n",
       "      <td>131680.119984</td>\n",
       "    </tr>\n",
       "    <tr>\n",
       "      <th>4</th>\n",
       "      <td>746</td>\n",
       "      <td>225345.297186</td>\n",
       "    </tr>\n",
       "  </tbody>\n",
       "</table>\n",
       "</div>"
      ],
      "text/plain": [
       "     Id          Price\n",
       "0  4567  156035.451128\n",
       "1  5925  128460.397853\n",
       "2   960  148589.427486\n",
       "3  3848  131680.119984\n",
       "4   746  225345.297186"
      ]
     },
     "execution_count": 76,
     "metadata": {},
     "output_type": "execute_result"
    }
   ],
   "source": [
    "submit['Price'] = predictions\n",
    "submit.head()"
   ]
  },
  {
   "cell_type": "code",
   "execution_count": 77,
   "id": "11c39c84",
   "metadata": {},
   "outputs": [],
   "source": [
    "submit.to_csv('rf_submit.csv', index=False)"
   ]
  },
  {
   "cell_type": "code",
   "execution_count": null,
   "id": "c89a696a",
   "metadata": {},
   "outputs": [],
   "source": []
  }
 ],
 "metadata": {
  "kernelspec": {
   "display_name": "Python 3 (ipykernel)",
   "language": "python",
   "name": "python3"
  },
  "language_info": {
   "codemirror_mode": {
    "name": "ipython",
    "version": 3
   },
   "file_extension": ".py",
   "mimetype": "text/x-python",
   "name": "python",
   "nbconvert_exporter": "python",
   "pygments_lexer": "ipython3",
   "version": "3.9.13"
  }
 },
 "nbformat": 4,
 "nbformat_minor": 5
}
